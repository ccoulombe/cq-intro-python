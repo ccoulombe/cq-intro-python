{
 "cells": [
  {
   "cell_type": "markdown",
   "id": "0822bc04-8f37-4d27-a40a-34d23e5e3b07",
   "metadata": {
    "lines_to_next_cell": 0
   },
   "source": [
    "# Repeating Actions with Loops\n",
    "## Objectives\n",
    "* Explain what a `for` loop does.\n",
    "* Correctly write `for` loops to repeat simple calculations.\n",
    "* Trace changes to a loop variable as the loop runs.\n",
    "* Trace changes to other variables as they are updated by a `for` loop.\n",
    "\n",
    "***\n",
    "An example task that we might want to repeat is accessing numbers in a list, which we will do by printing each number on a line of its own."
   ]
  },
  {
   "cell_type": "code",
   "execution_count": null,
   "id": "e6adef34",
   "metadata": {
    "lines_to_next_cell": 0,
    "tags": [
     "empty"
    ]
   },
   "outputs": [],
   "source": [
    "odds = [1, 3, 5, 7]"
   ]
  },
  {
   "cell_type": "markdown",
   "id": "278ccef7",
   "metadata": {
    "lines_to_next_cell": 0
   },
   "source": [
    "In Python, a list is basically an ordered collection of elements, and every element has a unique number associated with it — its index. This means that we can access elements in a list using their indices. For example, we can get the first number in the list `odds`, by using `odds[0]`. One way to print each number is to use four print statements:"
   ]
  },
  {
   "cell_type": "code",
   "execution_count": null,
   "id": "afc64bd4",
   "metadata": {
    "lines_to_next_cell": 0
   },
   "outputs": [],
   "source": [
    "print(odds[0])\n",
    "print(odds[1])\n",
    "print(odds[2])\n",
    "print(odds[3])"
   ]
  },
  {
   "cell_type": "markdown",
   "id": "0f0e2d48",
   "metadata": {
    "lines_to_next_cell": 0
   },
   "source": [
    "But if the list changes..."
   ]
  },
  {
   "cell_type": "code",
   "execution_count": null,
   "id": "1c1e3cc3",
   "metadata": {
    "lines_to_next_cell": 0,
    "tags": [
     "raises-exception"
    ]
   },
   "outputs": [],
   "source": [
    "odds = [1, 3, 5]\n",
    "print(odds[0])\n",
    "print(odds[1])\n",
    "print(odds[2])\n",
    "print(odds[3])"
   ]
  },
  {
   "cell_type": "markdown",
   "id": "bb7b7d95",
   "metadata": {
    "lines_to_next_cell": 0
   },
   "source": [
    "This is a bad approach for three reasons:\n",
    "\n",
    "1. **Not scalable.** Imagine you need to print a list that has hundreds of elements. It might be easier to type them in manually.\n",
    "2. **Difficult to maintain.** If we want to decorate each printed element with an asterisk or any other character, we would have to change four lines of code. While this might not be a problem for small lists, it would definitely be a problem for longer ones.\n",
    "3. **Fragile.** If we use it with a list that has more elements than what we initially envisioned, it will only display part of the list’s elements. A shorter list, on the other hand, will cause an error because it will be trying to display elements of the list that do not exist.\n",
    "\n",
    "Using a `for` loop to repeat an operation is a better approach:"
   ]
  },
  {
   "cell_type": "code",
   "execution_count": null,
   "id": "36762d07",
   "metadata": {
    "lines_to_next_cell": 0,
    "tags": [
     "empty"
    ]
   },
   "outputs": [],
   "source": [
    "for num in odds:\n",
    "    print(num)"
   ]
  },
  {
   "cell_type": "markdown",
   "id": "96a7477d",
   "metadata": {
    "lines_to_next_cell": 0
   },
   "source": [
    "and more robust, for instance if the list is longer:"
   ]
  },
  {
   "cell_type": "code",
   "execution_count": null,
   "id": "dfae494f",
   "metadata": {
    "tags": [
     "empty"
    ]
   },
   "outputs": [],
   "source": [
    "odds = [1, 3, 5, 7, 9, 11]\n",
    "for num in odds:\n",
    "    print(num)"
   ]
  },
  {
   "cell_type": "markdown",
   "id": "66a8399a",
   "metadata": {
    "lines_to_next_cell": 0
   },
   "source": [
    "The improved version is calling the print function for each element of the sequence. The general form of a loop is (note the indentation):\n",
    "```\n",
    "for element in sequence:\n",
    "    do things using element\n",
    "```\n",
    "\n",
    "A representation of the example above is:\n",
    "\n",
    "![image](images/loops_image_num.png)\n",
    "\n",
    "The variable name can be anything, such as `banana`, but it is preferable to choose meaningful names:"
   ]
  },
  {
   "cell_type": "code",
   "execution_count": null,
   "id": "e5e927b8",
   "metadata": {},
   "outputs": [],
   "source": [
    "odds = [1, 3, 5, 7, 9, 11]\n",
    "for banana in odds:\n",
    "    print(banana)"
   ]
  },
  {
   "cell_type": "markdown",
   "id": "98f59fb2",
   "metadata": {
    "lines_to_next_cell": 0
   },
   "source": [
    "Here’s another loop that repeatedly updates a variable. In this example note the indentation of the `print` statement, indicating that it's outside the loop, therefore executed after:"
   ]
  },
  {
   "cell_type": "code",
   "execution_count": null,
   "id": "2c9d4e17",
   "metadata": {},
   "outputs": [],
   "source": [
    "length = 0\n",
    "names = ['Curie', 'Darwin', 'Turing']\n",
    "for value in names:\n",
    "    length = length + 1\n",
    "print('There are', length, 'names in the list.')"
   ]
  },
  {
   "cell_type": "markdown",
   "id": "d5be57c6",
   "metadata": {
    "lines_to_next_cell": 0
   },
   "source": [
    "Note that a loop variable is a variable that is being used to record progress in a loop. It still exists after the loop is over, and we can re-use variables previously defined as loop variables:"
   ]
  },
  {
   "cell_type": "code",
   "execution_count": null,
   "id": "dbaf6db1",
   "metadata": {},
   "outputs": [],
   "source": [
    "name = 'Rosalind'\n",
    "for name in ['Curie', 'Darwin', 'Turing']:\n",
    "    print(name)\n",
    "print('after the loop, name is', name)"
   ]
  },
  {
   "cell_type": "markdown",
   "id": "65d2787c",
   "metadata": {
    "lines_to_next_cell": 0
   },
   "source": [
    "A common operation is finding the length of an object. Python has a built-in function named `len`:"
   ]
  },
  {
   "cell_type": "code",
   "execution_count": null,
   "id": "c5871bde",
   "metadata": {
    "lines_to_next_cell": 0,
    "tags": [
     "empty"
    ]
   },
   "outputs": [],
   "source": [
    "print(len([0, 1, 2, 3]))"
   ]
  },
  {
   "cell_type": "markdown",
   "id": "99345fc6",
   "metadata": {
    "lines_to_next_cell": 0
   },
   "source": [
    "Another built-in function named `range` can be very useful with `for` loops. This function creates a sequence of integers.\n",
    "- If one parameter is given, `range` creates a sequence of that length, starting at zero and incrementing by step of 1.\n",
    "- If two parameters are given, `range` starts at the first and ends just before the second, incrementing by step of 1.\n",
    "- If range is given 3 parameters, it starts at the first one, ends just before the second one, and increments by the third one."
   ]
  },
  {
   "cell_type": "code",
   "execution_count": null,
   "id": "82b7aa51",
   "metadata": {},
   "outputs": [],
   "source": [
    "print(len(range(6)))     # 0,1,2,3,4,5\n",
    "print(len(range(2,6)))   # 2,3,4,5\n",
    "print(len(range(3,6,2))) # 3, 5"
   ]
  },
  {
   "cell_type": "markdown",
   "id": "33096842",
   "metadata": {
    "lines_to_next_cell": 0
   },
   "source": [
    "# Exercises\n",
    "#### 1. Range\n",
    "Write a `for` loop, using `range` that prints numbers from `3` to `21` with a step of `3`:"
   ]
  },
  {
   "cell_type": "code",
   "execution_count": null,
   "id": "a0c071b5",
   "metadata": {
    "tags": [
     "empty"
    ]
   },
   "outputs": [],
   "source": [
    "for i in range(3, 22, 3):\n",
    "    print(i)"
   ]
  },
  {
   "cell_type": "markdown",
   "id": "e414abb3",
   "metadata": {
    "lines_to_next_cell": 0
   },
   "source": [
    "#### 2. Summing a list\n",
    "Write a loop that calculates the sum of elements in a list by adding each element and printing the final value.\n",
    "`[124, 402, 36]` prints `562`."
   ]
  },
  {
   "cell_type": "code",
   "execution_count": null,
   "id": "aae207e5",
   "metadata": {
    "tags": [
     "empty"
    ]
   },
   "outputs": [],
   "source": [
    "summed = 0\n",
    "for num in [124, 402, 36]:\n",
    "    summed = summed + num\n",
    "print(summed)"
   ]
  },
  {
   "cell_type": "markdown",
   "id": "fcb9f296",
   "metadata": {},
   "source": [
    "***\n",
    "# Key Points\n",
    "* Use `for variable in sequence` to process the elements of a sequence one at a time.\n",
    "* The body of a `for` loop must be indented.\n",
    "* Use `len(thing)` to determine the length of something that contains other values."
   ]
  }
 ],
 "metadata": {
  "jupytext": {
   "formats": "ipynb,md",
   "notebook_metadata_filter": "all"
  },
  "kernelspec": {
   "display_name": "Python 3",
   "language": "python",
   "name": "python3"
  },
  "language_info": {
   "codemirror_mode": {
    "name": "ipython",
    "version": 3
   },
   "file_extension": ".py",
   "mimetype": "text/x-python",
   "name": "python",
   "nbconvert_exporter": "python",
   "pygments_lexer": "ipython3",
   "version": "3.9.13"
  }
 },
 "nbformat": 4,
 "nbformat_minor": 5
}
