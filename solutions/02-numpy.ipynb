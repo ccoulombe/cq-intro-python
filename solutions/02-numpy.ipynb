{
 "cells": [
  {
   "cell_type": "markdown",
   "id": "f93aadbd",
   "metadata": {},
   "source": [
    "\n",
    "# Analyzing Patient Data\n",
    "## Objectives\n",
    "* Explain what a library is and what libraries are used for.\n",
    "* Import a Python library and use the functions it contains.\n",
    "* Read tabular data from a file into a program.\n",
    "* Select individual values and subsections from data.\n",
    "* Perform operations on arrays of data.\n",
    "***\n",
    "\n",
    "Numpy documentation: https://numpy.org/doc/stable/reference/index.html\n",
    "\n",
    "# Loading data into Python\n",
    "\n",
    "In order to load data, we need to access (import in Python terminology) a library named [`numpy`](https://numpy.org/doc/stable/). We first need to import it:"
   ]
  },
  {
   "cell_type": "code",
   "execution_count": null,
   "id": "027085c2",
   "metadata": {
    "tags": [
     "empty"
    ]
   },
   "outputs": [],
   "source": [
    "import numpy"
   ]
  },
  {
   "cell_type": "markdown",
   "id": "10269841",
   "metadata": {},
   "source": [
    "Importing a library makes its functionalities available for us to use.\n",
    "\n",
    "Once we’ve imported the library, we can ask the library to read our data file for us:"
   ]
  },
  {
   "cell_type": "code",
   "execution_count": null,
   "id": "a53165f0",
   "metadata": {
    "lines_to_next_cell": 2
   },
   "outputs": [],
   "source": [
    "numpy.loadtxt(fname='data/inflammation-01.csv', delimiter=',')"
   ]
  },
  {
   "cell_type": "markdown",
   "id": "7651d6ce",
   "metadata": {},
   "source": [
    "Our call to `numpy.loadtxt` read our file but didn’t save the data in memory. The result is returned and outputted to the screen.\n",
    "In order to save the data in memory, we need to assign the returned data to a variable, like we assigned a value to a variable:"
   ]
  },
  {
   "cell_type": "code",
   "execution_count": null,
   "id": "e25b8ba5",
   "metadata": {
    "lines_to_next_cell": 2
   },
   "outputs": [],
   "source": [
    "data = numpy.loadtxt(fname='data/inflammation-01.csv', delimiter=',')"
   ]
  },
  {
   "cell_type": "markdown",
   "id": "19dbc8e7",
   "metadata": {},
   "source": [
    "If we want to have a look at the data, we can print the variable's value:"
   ]
  },
  {
   "cell_type": "code",
   "execution_count": null,
   "id": "1e5e0a17",
   "metadata": {
    "lines_to_next_cell": 2,
    "tags": [
     "empty"
    ]
   },
   "outputs": [],
   "source": [
    "print(data)"
   ]
  },
  {
   "cell_type": "markdown",
   "id": "6358869e",
   "metadata": {},
   "source": [
    "We can now manipulate it. Let's look at its type:"
   ]
  },
  {
   "cell_type": "code",
   "execution_count": null,
   "id": "a620c008",
   "metadata": {},
   "outputs": [],
   "source": [
    "print(type(data))"
   ]
  },
  {
   "cell_type": "markdown",
   "id": "4edd8068",
   "metadata": {},
   "source": [
    "We can also find out the type of the data contained in the array:"
   ]
  },
  {
   "cell_type": "code",
   "execution_count": null,
   "id": "01c36e84",
   "metadata": {
    "lines_to_next_cell": 2,
    "tags": [
     "empty"
    ]
   },
   "outputs": [],
   "source": [
    "print(data.dtype)"
   ]
  },
  {
   "cell_type": "markdown",
   "id": "092aad2a",
   "metadata": {},
   "source": [
    "Or we can see the array's shape:"
   ]
  },
  {
   "cell_type": "code",
   "execution_count": null,
   "id": "e5147f71",
   "metadata": {
    "lines_to_next_cell": 2,
    "tags": [
     "empty"
    ]
   },
   "outputs": [],
   "source": [
    "print(data.shape)"
   ]
  },
  {
   "cell_type": "markdown",
   "id": "b1e21aea",
   "metadata": {},
   "source": [
    "To print one element from the array, we must provide an index in square brackets (`[]`) after the variable name.\n",
    "The inflammation data has two dimensions, so we will need to use two indices to refer to one specific value:"
   ]
  },
  {
   "cell_type": "code",
   "execution_count": null,
   "id": "45573836",
   "metadata": {
    "lines_to_next_cell": 0,
    "tags": [
     "empty"
    ]
   },
   "outputs": [],
   "source": [
    "print('middle value in data:', data[30, 20])"
   ]
  },
  {
   "cell_type": "markdown",
   "id": "223956d1",
   "metadata": {},
   "source": [
    "The expression `data[30, 20]` accesses the element at row `30` and column `20`."
   ]
  },
  {
   "cell_type": "markdown",
   "id": "a070a855",
   "metadata": {},
   "source": [
    "And what would be the indices for the first element?:"
   ]
  },
  {
   "cell_type": "code",
   "execution_count": null,
   "id": "05060f8d",
   "metadata": {
    "lines_to_next_cell": 2
   },
   "outputs": [],
   "source": [
    "print('first value in data:', data[0, 0])"
   ]
  },
  {
   "cell_type": "markdown",
   "id": "8d653067",
   "metadata": {},
   "source": [
    "Programming languages like Fortran, MATLAB and R start counting at 1 because that’s what human beings have done for thousands of years. Languages in the C family (including C++, Java, Perl, and Python) count from 0 because it represents an offset from the first value in the array (the second value is offset by one index from the first value). As a result, if we have an M×N array in Python, its indices go from 0 to M-1 on the first axis and 0 to N-1 on the second.\n",
    "![image](images/python-zero-index.svg)\n",
    "\n",
    "# Slicing data\n",
    "Above we selected a single element, but we can select whole sections or slice. For instance, we can select the first ten days (columns) for the first four patients (rows) with:"
   ]
  },
  {
   "cell_type": "code",
   "execution_count": null,
   "id": "931ac33b",
   "metadata": {
    "lines_to_next_cell": 0,
    "tags": [
     "empty"
    ]
   },
   "outputs": [],
   "source": [
    "print(data[0:4, 0:10])"
   ]
  },
  {
   "cell_type": "markdown",
   "id": "3ad551e6",
   "metadata": {},
   "source": [
    "The slicing is not an inclusive range: `[from:to[`, for example:\n",
    "\n",
    "|elements| 1  | 2  | 3  | 4  |\n",
    "|--------|----|----|----|----|\n",
    "|indexes | 0  | 1  | 2  | 3  |"
   ]
  },
  {
   "cell_type": "markdown",
   "id": "3a22c490",
   "metadata": {},
   "source": [
    "We don’t have to start slices at 0:"
   ]
  },
  {
   "cell_type": "code",
   "execution_count": null,
   "id": "6fa49218",
   "metadata": {
    "lines_to_next_cell": 2
   },
   "outputs": [],
   "source": [
    "print(data[5:10, 0:10])"
   ]
  },
  {
   "cell_type": "markdown",
   "id": "49fc0612",
   "metadata": {},
   "source": [
    "We can also omit the upper or lower boundary of the slice:"
   ]
  },
  {
   "cell_type": "code",
   "execution_count": null,
   "id": "29672cb1",
   "metadata": {
    "lines_to_next_cell": 2
   },
   "outputs": [],
   "source": [
    "small = data[:3, 36:]\n",
    "print('small is:')\n",
    "print(small)"
   ]
  },
  {
   "cell_type": "markdown",
   "id": "7f6f9f43",
   "metadata": {},
   "source": [
    "# Analyzing data\n",
    "Numpy library contains several useful functions to work with arrays. For example, we can calculate `data`'s [mean](https://numpy.org/doc/stable/reference/generated/numpy.ndarray.mean.html) value:"
   ]
  },
  {
   "cell_type": "code",
   "execution_count": null,
   "id": "89add13d",
   "metadata": {
    "lines_to_next_cell": 2,
    "tags": [
     "empty"
    ]
   },
   "outputs": [],
   "source": [
    "print(numpy.mean(data))"
   ]
  },
  {
   "cell_type": "markdown",
   "id": "651ca655",
   "metadata": {},
   "source": [
    "We could also calculate the [maximum](https://numpy.org/doc/stable/reference/generated/numpy.ndarray.max.html), [minimal](https://numpy.org/doc/stable/reference/generated/numpy.ndarray.min.html) and [standard deviation](https://numpy.org/doc/stable/reference/generated/numpy.ndarray.std.html) of the data:"
   ]
  },
  {
   "cell_type": "code",
   "execution_count": null,
   "id": "ddac44fa",
   "metadata": {
    "lines_to_next_cell": 2,
    "tags": [
     "empty"
    ]
   },
   "outputs": [],
   "source": [
    "print('maximum inflammation:', numpy.max(data))\n",
    "print('minimum inflammation:', numpy.min(data))\n",
    "print('standard deviation:', numpy.std(data))"
   ]
  },
  {
   "cell_type": "markdown",
   "id": "00fea412",
   "metadata": {},
   "source": [
    "At any given point, we can learn more about a function by using some help magic 🪄 or tab completion.\n",
    "For instance, we could look the documentation for the `std` function:"
   ]
  },
  {
   "cell_type": "code",
   "execution_count": null,
   "id": "3e24332c",
   "metadata": {
    "scrolled": true,
    "tags": []
   },
   "outputs": [],
   "source": [
    "help(numpy.std)"
   ]
  },
  {
   "cell_type": "markdown",
   "id": "f5683fa4",
   "metadata": {},
   "source": [
    "When analyzing data we often want to look at variations in statistical values, such as the maximum inflammation per patient or the average inflammation per day. One way to do this is to create a new temporary array of the data we want, then ask it to do the calculation. \n",
    "How would we assign the data of the first patient to a variable `patient_0`?:"
   ]
  },
  {
   "cell_type": "code",
   "execution_count": null,
   "id": "f70ef5f1",
   "metadata": {
    "tags": [
     "empty"
    ]
   },
   "outputs": [],
   "source": [
    "patient_0 = data[0, :] # 0 on the first axis (rows), everything on the second (columns)"
   ]
  },
  {
   "cell_type": "markdown",
   "id": "99345f20",
   "metadata": {},
   "source": [
    "Then calculate the maximum inflammation for this patient:"
   ]
  },
  {
   "cell_type": "code",
   "execution_count": null,
   "id": "089f22d0",
   "metadata": {
    "lines_to_next_cell": 2
   },
   "outputs": [],
   "source": [
    "print(numpy.max(patient_0))"
   ]
  },
  {
   "cell_type": "markdown",
   "id": "398ba2da",
   "metadata": {},
   "source": [
    "We don’t actually need to store the row in a variable of its own. We can call the function directly:"
   ]
  },
  {
   "cell_type": "code",
   "execution_count": null,
   "id": "d4b80b97",
   "metadata": {
    "lines_to_next_cell": 2
   },
   "outputs": [],
   "source": [
    "print('maximum inflammation for patient 3:', numpy.max(data[2, :]))"
   ]
  },
  {
   "cell_type": "markdown",
   "id": "9fad472e",
   "metadata": {},
   "source": [
    "Operations can be done on rows or columns, which we call _axis_.\n",
    "![image](images/python-operations-across-axes.png)\n",
    "\n",
    "With _axis_, we can get the maximum inflammation for each patient over all days (left) or the average for each day (right).\n",
    "\n",
    "For instance, calculate the average for each day. To which graphic does this correspond?"
   ]
  },
  {
   "cell_type": "code",
   "execution_count": null,
   "id": "8b9268f1",
   "metadata": {
    "lines_to_next_cell": 2,
    "tags": [
     "empty"
    ]
   },
   "outputs": [],
   "source": [
    "print(numpy.mean(data, axis=0))"
   ]
  },
  {
   "cell_type": "markdown",
   "id": "f10621c7",
   "metadata": {},
   "source": [
    "When we look at the shape of our array, we get:"
   ]
  },
  {
   "cell_type": "code",
   "execution_count": null,
   "id": "07ece672",
   "metadata": {},
   "outputs": [],
   "source": [
    "print(numpy.mean(data, axis=0).shape)"
   ]
  },
  {
   "cell_type": "markdown",
   "id": "7ac3c870",
   "metadata": {},
   "source": [
    "`(40,)` which means we have a 1 dimension vector (`Nx1`) of 40 elements. This is the average inflammation per day for all patients.\n",
    "And if we'd calculate the average inflammation per patient accross all days?:"
   ]
  },
  {
   "cell_type": "code",
   "execution_count": null,
   "id": "2c8c71cd",
   "metadata": {
    "lines_to_next_cell": 2
   },
   "outputs": [],
   "source": [
    "print(numpy.mean(data, axis=1))"
   ]
  },
  {
   "cell_type": "markdown",
   "id": "52e25951-b1f7-4bcd-97c3-400d08ce9e3d",
   "metadata": {},
   "source": [
    "# Exercices\n",
    "#### 1. Slicing"
   ]
  },
  {
   "cell_type": "code",
   "execution_count": null,
   "id": "f35a606d-64b3-4a46-ba5b-14ed2579004c",
   "metadata": {},
   "outputs": [],
   "source": [
    "data = numpy.loadtxt(fname='data/inflammation-01.csv', delimiter=',')"
   ]
  },
  {
   "cell_type": "markdown",
   "id": "06ba13d4-93b3-4a35-a237-b018a9bab453",
   "metadata": {},
   "source": [
    "Print the first patient, first inflammation value:"
   ]
  },
  {
   "cell_type": "code",
   "execution_count": null,
   "id": "63fb5e1d",
   "metadata": {
    "tags": [
     "empty"
    ]
   },
   "outputs": [],
   "source": [
    "print(data[0,0])"
   ]
  },
  {
   "cell_type": "markdown",
   "id": "f6f32493",
   "metadata": {},
   "source": [
    "Print the second patient, 5th inflammation value:"
   ]
  },
  {
   "cell_type": "code",
   "execution_count": null,
   "id": "c169703d",
   "metadata": {
    "tags": [
     "empty"
    ]
   },
   "outputs": [],
   "source": [
    "print(data[1,4])"
   ]
  },
  {
   "cell_type": "markdown",
   "id": "49f1d0a5",
   "metadata": {},
   "source": [
    "Print the first three patients, their first four inflammation values:"
   ]
  },
  {
   "cell_type": "code",
   "execution_count": null,
   "id": "437c73a7",
   "metadata": {
    "tags": [
     "empty"
    ]
   },
   "outputs": [],
   "source": [
    "data[0:3, 0:4]"
   ]
  },
  {
   "cell_type": "markdown",
   "id": "ba47a4c1",
   "metadata": {},
   "source": [
    "***\n",
    "# Key points\n",
    "\n",
    "* Import a library into a program using `import libraryname`.\n",
    "* Use the `numpy` library to work with arrays in Python.\n",
    "* The expression `array.shape` gives the shape of an array.\n",
    "* Use `array[x, y]` to select a single element from a 2D numpy array.\n",
    "* Array indices start at `0`, not `1`.\n",
    "* Use `low:high` to specify a slice that includes the indices from `low` to `high-1`.\n",
    "* Use `# some kind of explanation to add comments to programs.\n",
    "* Use `numpy.mean(array)`, `numpy.max(array)`, and `numpy.min(array)` to calculate simple statistics.\n",
    "* Use `numpy.mean(array, axis=0)` or `numpy.mean(array, axis=1)` to calculate statistics across the specified axis."
   ]
  }
 ],
 "metadata": {
  "jupytext": {
   "cell_metadata_filter": "autoscroll,scrolled,tags",
   "formats": "ipynb,md",
   "notebook_metadata_filter": "all"
  },
  "kernelspec": {
   "display_name": "Python 3",
   "language": "python",
   "name": "python3"
  },
  "language_info": {
   "codemirror_mode": {
    "name": "ipython",
    "version": 3
   },
   "file_extension": ".py",
   "mimetype": "text/x-python",
   "name": "python",
   "nbconvert_exporter": "python",
   "pygments_lexer": "ipython3",
   "version": "3.9.13"
  }
 },
 "nbformat": 4,
 "nbformat_minor": 5
}
