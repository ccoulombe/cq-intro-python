{
 "cells": [
  {
   "cell_type": "markdown",
   "id": "4c503f06",
   "metadata": {
    "lines_to_next_cell": 0
   },
   "source": [
    "# Python Fundamentals\n",
    "## Objectives\n",
    "* Assign values to variables.\n",
    "* Know the existence of different types of data\n",
    "\n",
    "***\n",
    "\n",
    "Any Python interpreter can be used as a calculator:"
   ]
  },
  {
   "cell_type": "code",
   "execution_count": null,
   "id": "2f8ae7d0",
   "metadata": {},
   "outputs": [],
   "source": [
    "10 + 20"
   ]
  },
  {
   "cell_type": "code",
   "execution_count": null,
   "id": "2941613a",
   "metadata": {
    "tags": [
     "empty"
    ]
   },
   "outputs": [],
   "source": []
  },
  {
   "cell_type": "markdown",
   "id": "7f4fb0d5",
   "metadata": {},
   "source": [
    "This is great but not very interesting. To do anything useful with data, we need to assign its value to a variable. \n",
    "\n",
    "## Variables\n",
    "Variables are nothing but reserved memory locations to store values. This means that when you create a\n",
    "variable you reserve some space in memory.\n",
    "\n",
    "In Python, we can assign a value to a variable, using the equals sign `=`. For example, we can track the weight of a patient who weighs `60` kilograms by assigning the value `60` to a variable named `weight_kg`:"
   ]
  },
  {
   "cell_type": "code",
   "execution_count": null,
   "id": "281f7a04",
   "metadata": {
    "tags": [
     "empty"
    ]
   },
   "outputs": [],
   "source": []
  },
  {
   "cell_type": "markdown",
   "id": "07b062a7",
   "metadata": {
    "lines_to_next_cell": 0
   },
   "source": [
    "In Python, variable names:\n",
    "\n",
    "* can include letters, digits, and underscores\n",
    "* cannot start with a digit\n",
    "* are case sensitive.\n",
    "This means that, for example:\n",
    "\n",
    "`weight0` is a valid variable name, whereas `0weight` is not\n",
    "`weight` and `Weight` are different variables"
   ]
  },
  {
   "cell_type": "code",
   "execution_count": null,
   "id": "892a15c8",
   "metadata": {
    "tags": [
     "raises-exception"
    ]
   },
   "outputs": [],
   "source": [
    "weight0 = 0  # valid\n",
    "0weight = 1  # invalid"
   ]
  },
  {
   "cell_type": "markdown",
   "id": "49efabeb",
   "metadata": {},
   "source": [
    "## Types of data\n",
    "\n",
    "Python has many types of data. Three common ones are:\n",
    "\n",
    "* integer numbers (`int`)\n",
    "* floating point numbers (`float`)\n",
    "* strings (`str`)\n",
    "\n",
    "You may also come across:\n",
    "- None\n",
    "- List\n",
    "- Boolean\n",
    "- Dictionary\n",
    "- Set\n",
    "- Tuples\n",
    "\n",
    "Some types of date are **immutable** objects, meaning that the state of the object cannot be modified after it has been created. The other types are therefore called **mutables** objects. The immutable property improve readability and runtime efficiency.\n",
    "\n",
    "| Data type       | Immutable  |\n",
    "|-----------------|------------|\n",
    "|   list          | ❌         |\n",
    "|   set           | ❌         |\n",
    "|   dictionary    | ❌         |\n",
    "|   None          | ✅         |\n",
    "|   bool          | ✅         |\n",
    "|   int           | ✅         |\n",
    "|   float         | ✅         |\n",
    "|   complex       | ✅         |\n",
    "|   strings       | ✅         |\n",
    "|   tuple         | ✅         |"
   ]
  },
  {
   "cell_type": "markdown",
   "id": "f53739c0",
   "metadata": {
    "lines_to_next_cell": 0
   },
   "source": [
    "In the example above, the variable `weight_kg` has an integer value of `60`. If we want to more precisely track the weight of our patient, we can use a floating point value by executing:"
   ]
  },
  {
   "cell_type": "code",
   "execution_count": null,
   "id": "e750881e",
   "metadata": {
    "tags": [
     "empty"
    ]
   },
   "outputs": [],
   "source": []
  },
  {
   "cell_type": "markdown",
   "id": "0e2080d1",
   "metadata": {
    "lines_to_next_cell": 0
   },
   "source": [
    "To create a string, we add single or double quotes around some text. To identify and track a patient throughout our study, we can assign each person a unique identifier by storing it in a string:"
   ]
  },
  {
   "cell_type": "code",
   "execution_count": null,
   "id": "de499913",
   "metadata": {},
   "outputs": [],
   "source": [
    "patient_id = '001'"
   ]
  },
  {
   "cell_type": "markdown",
   "id": "cb189b76",
   "metadata": {
    "lines_to_next_cell": 0
   },
   "source": [
    "## Using Variables in Python\n",
    "Once we have data stored with variable names, we can make use of it in calculations. We may want to store our patient’s weight in pounds as well as kilograms:"
   ]
  },
  {
   "cell_type": "code",
   "execution_count": null,
   "id": "c4f60c02",
   "metadata": {
    "tags": [
     "empty"
    ]
   },
   "outputs": [],
   "source": []
  },
  {
   "cell_type": "markdown",
   "id": "3238c552",
   "metadata": {
    "lines_to_next_cell": 0
   },
   "source": [
    "We might decide to add a prefix to our patient identifier. We can add another string value by concatenating two strings:"
   ]
  },
  {
   "cell_type": "code",
   "execution_count": null,
   "id": "f0861311",
   "metadata": {},
   "outputs": [],
   "source": [
    "patient_id = 'inflam_' + patient_id"
   ]
  },
  {
   "cell_type": "markdown",
   "id": "5f25aecd",
   "metadata": {
    "lines_to_next_cell": 0
   },
   "source": [
    "## Built-in functions\n",
    "A function is:\n",
    "> A named group of instructions that is executed when the function’s name is used in the code. Occurrence of a function name in the code is a function call. Functions may process input arguments and return the result back. Functions may also be used for logically grouping together pieces of code. In such cases, they don’t need to return any meaningful value and can be written without the return statement completely. Such functions return a special value `None`, which is a way of saying “nothing”.\n",
    "[Reference](https://swcarpentry.github.io/python-novice-inflammation/reference.html#function)\n",
    "\n",
    "Python has several built-in functions. In order to display information to the screen, we can use the `print` function:"
   ]
  },
  {
   "cell_type": "code",
   "execution_count": null,
   "id": "062a1e5c",
   "metadata": {
    "tags": [
     "empty"
    ]
   },
   "outputs": [],
   "source": []
  },
  {
   "cell_type": "markdown",
   "id": "d4dce12c",
   "metadata": {
    "lines_to_next_cell": 0
   },
   "source": [
    "When we want to make use of a function, referred to as calling the function, we follow its name by parentheses. The parentheses are important: if you leave them off, the function doesn’t actually run! Sometimes you will include values or variables inside the parentheses for the function to use. In the case of `print`, we use the parentheses to tell the function what value we want to display. We will learn more about how functions work and how to create our own in a later chapter.\n",
    "\n",
    "We can display multiple things at once using only one print call:"
   ]
  },
  {
   "cell_type": "code",
   "execution_count": null,
   "id": "c7c304ea",
   "metadata": {},
   "outputs": [],
   "source": [
    "print(patient_id, 'weight in kilograms:', weight_kg)"
   ]
  },
  {
   "cell_type": "markdown",
   "id": "26fb7c8c",
   "metadata": {
    "lines_to_next_cell": 0
   },
   "source": [
    "We can also embed another function call, for example if we printed the value's data type:"
   ]
  },
  {
   "cell_type": "code",
   "execution_count": null,
   "id": "420ac4c2",
   "metadata": {},
   "outputs": [],
   "source": [
    "print(type(60.3))\n",
    "print(type(patient_id))"
   ]
  },
  {
   "cell_type": "markdown",
   "id": "01108f41",
   "metadata": {
    "lines_to_next_cell": 0
   },
   "source": [
    "We can also do arithmetic with variables:"
   ]
  },
  {
   "cell_type": "code",
   "execution_count": null,
   "id": "c604b011",
   "metadata": {},
   "outputs": [],
   "source": [
    "print('weight in pounds:', 2.2 * weight_kg)"
   ]
  },
  {
   "cell_type": "markdown",
   "id": "bb8040ab",
   "metadata": {
    "lines_to_next_cell": 0
   },
   "source": [
    "The value of `weight_kg` was not altered:"
   ]
  },
  {
   "cell_type": "code",
   "execution_count": null,
   "id": "63e5ade5",
   "metadata": {},
   "outputs": [],
   "source": [
    "print(weight_kg)"
   ]
  },
  {
   "cell_type": "markdown",
   "id": "79393b9c",
   "metadata": {
    "lines_to_next_cell": 0
   },
   "source": [
    "In order to change the value of the `weight_kg` variable, we have to *assign* a new value:"
   ]
  },
  {
   "cell_type": "code",
   "execution_count": null,
   "id": "0aa17e3a",
   "metadata": {},
   "outputs": [],
   "source": [
    "weight_kg = 65.0\n",
    "print('weight in kilograms is now:', weight_kg)"
   ]
  },
  {
   "cell_type": "markdown",
   "id": "d36658dc",
   "metadata": {
    "lines_to_next_cell": 0
   },
   "source": [
    "# Exercices\n",
    "#### 1. What values do the variables `mass` and `age` have after each of the following statements?"
   ]
  },
  {
   "cell_type": "code",
   "execution_count": null,
   "id": "edff8513",
   "metadata": {},
   "outputs": [],
   "source": [
    "mass = 47.5\n",
    "age = 122\n",
    "mass = mass * 2.0\n",
    "age = age - 20"
   ]
  },
  {
   "cell_type": "markdown",
   "id": "f5c46046",
   "metadata": {
    "lines_to_next_cell": 0
   },
   "source": [
    "#### 2. What are the data types of the following variables?"
   ]
  },
  {
   "cell_type": "code",
   "execution_count": null,
   "id": "ed03739b",
   "metadata": {},
   "outputs": [],
   "source": [
    "planet = 'Earth'\n",
    "apples = 5\n",
    "distance = 10.5"
   ]
  },
  {
   "cell_type": "markdown",
   "id": "dbdf1ef2",
   "metadata": {},
   "source": [
    "***\n",
    "# Key points\n",
    "* Basic data types in Python include integers, strings, and floating-point numbers.\n",
    "* Use `variable = value` to assign a value to a variable in order to record it in memory.\n",
    "* Variables are created on demand whenever a value is assigned to them.\n",
    "* Use `print(something)` to display the value of `something`.\n",
    "* Built-in functions are always available to use."
   ]
  }
 ],
 "metadata": {
  "jupytext": {
   "formats": "ipynb,md",
   "notebook_metadata_filter": "all"
  },
  "kernelspec": {
   "display_name": "Python 3",
   "language": "python",
   "name": "python3"
  },
  "language_info": {
   "codemirror_mode": {
    "name": "ipython",
    "version": 3
   },
   "file_extension": ".py",
   "mimetype": "text/x-python",
   "name": "python",
   "nbconvert_exporter": "python",
   "pygments_lexer": "ipython3",
   "version": "3.9.13"
  }
 },
 "nbformat": 4,
 "nbformat_minor": 5
}