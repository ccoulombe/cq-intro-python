{
 "cells": [
  {
   "cell_type": "markdown",
   "id": "f93aadbd",
   "metadata": {},
   "source": [
    "\n",
    "# Analyzing Patient Data\n",
    "## Objectives\n",
    "* Explain what a library is and what libraries are used for.\n",
    "* Import a Python library and use the functions it contains.\n",
    "* Read tabular data from a file into a program.\n",
    "* Select individual values and subsections from data.\n",
    "* Perform operations on arrays of data.\n",
    "***\n",
    "\n",
    "Numpy documentation: https://numpy.org/doc/stable/reference/index.html\n",
    "\n",
    "# Loading data into Python\n",
    "\n",
    "In order to load data, we need to access (import in Python terminology) a library named [`numpy`](https://numpy.org/doc/stable/). We first need to import it:"
   ]
  },
  {
   "cell_type": "code",
   "execution_count": 1,
   "id": "027085c2",
   "metadata": {},
   "outputs": [],
   "source": [
    "import numpy"
   ]
  },
  {
   "cell_type": "markdown",
   "id": "10269841",
   "metadata": {},
   "source": [
    "Importing a library makes its functionnalities available for us to use.\n",
    "\n",
    "Once we’ve imported the library, we can ask the library to read our data file for us:"
   ]
  },
  {
   "cell_type": "code",
   "execution_count": 2,
   "id": "a53165f0",
   "metadata": {
    "lines_to_next_cell": 2
   },
   "outputs": [
    {
     "data": {
      "text/plain": [
       "array([[0., 0., 1., ..., 3., 0., 0.],\n",
       "       [0., 1., 2., ..., 1., 0., 1.],\n",
       "       [0., 1., 1., ..., 2., 1., 1.],\n",
       "       ...,\n",
       "       [0., 1., 1., ..., 1., 1., 1.],\n",
       "       [0., 0., 0., ..., 0., 2., 0.],\n",
       "       [0., 0., 1., ..., 1., 1., 0.]])"
      ]
     },
     "execution_count": 2,
     "metadata": {},
     "output_type": "execute_result"
    }
   ],
   "source": [
    "numpy.loadtxt(fname='../data/inflammation-01.csv', delimiter=',')"
   ]
  },
  {
   "cell_type": "markdown",
   "id": "7651d6ce",
   "metadata": {},
   "source": [
    "Our call to `numpy.loadtxt` read our file but didn’t save the data in memory. The result is returned and outputted to the screen.\n",
    "In order to save the data in memory, we need to assign the returned data to a variable, like we assigned a value to a variable:"
   ]
  },
  {
   "cell_type": "code",
   "execution_count": 3,
   "id": "e25b8ba5",
   "metadata": {
    "lines_to_next_cell": 2
   },
   "outputs": [],
   "source": [
    "data = numpy.loadtxt(fname='../data/inflammation-01.csv', delimiter=',')"
   ]
  },
  {
   "cell_type": "markdown",
   "id": "19dbc8e7",
   "metadata": {},
   "source": [
    "If we want to have a look at the data, we can print the variable's value:"
   ]
  },
  {
   "cell_type": "code",
   "execution_count": 4,
   "id": "1e5e0a17",
   "metadata": {
    "lines_to_next_cell": 2
   },
   "outputs": [
    {
     "name": "stdout",
     "output_type": "stream",
     "text": [
      "[[0. 0. 1. ... 3. 0. 0.]\n",
      " [0. 1. 2. ... 1. 0. 1.]\n",
      " [0. 1. 1. ... 2. 1. 1.]\n",
      " ...\n",
      " [0. 1. 1. ... 1. 1. 1.]\n",
      " [0. 0. 0. ... 0. 2. 0.]\n",
      " [0. 0. 1. ... 1. 1. 0.]]\n"
     ]
    }
   ],
   "source": [
    "print(data)"
   ]
  },
  {
   "cell_type": "markdown",
   "id": "6358869e",
   "metadata": {},
   "source": [
    "We can now manipulate it. Let's look at its type:"
   ]
  },
  {
   "cell_type": "code",
   "execution_count": 5,
   "id": "a620c008",
   "metadata": {},
   "outputs": [
    {
     "name": "stdout",
     "output_type": "stream",
     "text": [
      "<class 'numpy.ndarray'>\n"
     ]
    }
   ],
   "source": [
    "print(type(data))"
   ]
  },
  {
   "cell_type": "markdown",
   "id": "4edd8068",
   "metadata": {},
   "source": [
    "We can also find out the type of the data contained in the array:"
   ]
  },
  {
   "cell_type": "code",
   "execution_count": 6,
   "id": "01c36e84",
   "metadata": {
    "lines_to_next_cell": 2
   },
   "outputs": [
    {
     "name": "stdout",
     "output_type": "stream",
     "text": [
      "float64\n"
     ]
    }
   ],
   "source": [
    "print(data.dtype)"
   ]
  },
  {
   "cell_type": "markdown",
   "id": "092aad2a",
   "metadata": {},
   "source": [
    "Or we can see the array's shape:"
   ]
  },
  {
   "cell_type": "code",
   "execution_count": 7,
   "id": "e5147f71",
   "metadata": {
    "lines_to_next_cell": 2
   },
   "outputs": [
    {
     "name": "stdout",
     "output_type": "stream",
     "text": [
      "(60, 40)\n"
     ]
    }
   ],
   "source": [
    "print(data.shape)"
   ]
  },
  {
   "cell_type": "markdown",
   "id": "b1e21aea",
   "metadata": {},
   "source": [
    "To print one element from the array, we must provide an index in square brackets (`[]`) after the variable name.\n",
    "The inflammation data has two dimensions, so we will need to use two indices to refer to one specific value:"
   ]
  },
  {
   "cell_type": "code",
   "execution_count": 8,
   "id": "45573836",
   "metadata": {
    "lines_to_next_cell": 0
   },
   "outputs": [
    {
     "name": "stdout",
     "output_type": "stream",
     "text": [
      "middle value in data: 13.0\n"
     ]
    }
   ],
   "source": [
    "print('middle value in data:', data[30, 20])"
   ]
  },
  {
   "cell_type": "markdown",
   "id": "223956d1",
   "metadata": {},
   "source": [
    "The expression `data[30, 20]` accesses the element at row `30` and column `20`."
   ]
  },
  {
   "cell_type": "markdown",
   "id": "a070a855",
   "metadata": {},
   "source": [
    "And what would be the indices for the first element?:"
   ]
  },
  {
   "cell_type": "code",
   "execution_count": 9,
   "id": "05060f8d",
   "metadata": {
    "lines_to_next_cell": 2
   },
   "outputs": [
    {
     "name": "stdout",
     "output_type": "stream",
     "text": [
      "first value in data: 0.0\n"
     ]
    }
   ],
   "source": [
    "print('first value in data:', data[0, 0])"
   ]
  },
  {
   "cell_type": "markdown",
   "id": "8d653067",
   "metadata": {},
   "source": [
    "Programming languages like Fortran, MATLAB and R start counting at 1 because that’s what human beings have done for thousands of years. Languages in the C family (including C++, Java, Perl, and Python) count from 0 because it represents an offset from the first value in the array (the second value is offset by one index from the first value). As a result, if we have an M×N array in Python, its indices go from 0 to M-1 on the first axis and 0 to N-1 on the second.\n",
    "![image](../images/python-zero-index.svg)\n",
    "\n",
    "# Slicing data\n",
    "Above we selected a single element, but we can select whole sections or slice. For instance, we can select the first ten days (columns) for the first four patients (rows) with:"
   ]
  },
  {
   "cell_type": "code",
   "execution_count": 10,
   "id": "931ac33b",
   "metadata": {
    "lines_to_next_cell": 0
   },
   "outputs": [
    {
     "name": "stdout",
     "output_type": "stream",
     "text": [
      "[[0. 0. 1. 3. 1. 2. 4. 7. 8. 3.]\n",
      " [0. 1. 2. 1. 2. 1. 3. 2. 2. 6.]\n",
      " [0. 1. 1. 3. 3. 2. 6. 2. 5. 9.]\n",
      " [0. 0. 2. 0. 4. 2. 2. 1. 6. 7.]]\n"
     ]
    }
   ],
   "source": [
    "print(data[0:4, 0:10])"
   ]
  },
  {
   "cell_type": "markdown",
   "id": "3ad551e6",
   "metadata": {},
   "source": [
    "The slicing is not an inclusive range: `[from:to[`, for example:\n",
    "\n",
    "|elements| 1  | 2  | 3  | 4  |\n",
    "|--------|----|----|----|----|\n",
    "|indexes | 0  | 1  | 2  | 3  |"
   ]
  },
  {
   "cell_type": "markdown",
   "id": "3a22c490",
   "metadata": {},
   "source": [
    "We don’t have to start slices at 0:"
   ]
  },
  {
   "cell_type": "code",
   "execution_count": 11,
   "id": "6fa49218",
   "metadata": {
    "lines_to_next_cell": 2
   },
   "outputs": [
    {
     "name": "stdout",
     "output_type": "stream",
     "text": [
      "[[0. 0. 1. 2. 2. 4. 2. 1. 6. 4.]\n",
      " [0. 0. 2. 2. 4. 2. 2. 5. 5. 8.]\n",
      " [0. 0. 1. 2. 3. 1. 2. 3. 5. 3.]\n",
      " [0. 0. 0. 3. 1. 5. 6. 5. 5. 8.]\n",
      " [0. 1. 1. 2. 1. 3. 5. 3. 5. 8.]]\n"
     ]
    }
   ],
   "source": [
    "print(data[5:10, 0:10])"
   ]
  },
  {
   "cell_type": "markdown",
   "id": "49fc0612",
   "metadata": {},
   "source": [
    "We can also omit the upper or lower boundary of the slice:"
   ]
  },
  {
   "cell_type": "code",
   "execution_count": 12,
   "id": "29672cb1",
   "metadata": {
    "lines_to_next_cell": 2
   },
   "outputs": [
    {
     "name": "stdout",
     "output_type": "stream",
     "text": [
      "small is:\n",
      "[[2. 3. 0. 0.]\n",
      " [1. 1. 0. 1.]\n",
      " [2. 2. 1. 1.]]\n"
     ]
    }
   ],
   "source": [
    "small = data[:3, 36:]\n",
    "print('small is:')\n",
    "print(small)"
   ]
  },
  {
   "cell_type": "markdown",
   "id": "7f6f9f43",
   "metadata": {},
   "source": [
    "# Analyzing data\n",
    "Numpy library contains several useful functions to work with arrays. For example, we can calculate `data`'s [mean](https://numpy.org/doc/stable/reference/generated/numpy.ndarray.mean.html) value:"
   ]
  },
  {
   "cell_type": "code",
   "execution_count": 13,
   "id": "89add13d",
   "metadata": {
    "lines_to_next_cell": 2
   },
   "outputs": [
    {
     "name": "stdout",
     "output_type": "stream",
     "text": [
      "6.14875\n"
     ]
    }
   ],
   "source": [
    "print(numpy.mean(data))"
   ]
  },
  {
   "cell_type": "markdown",
   "id": "651ca655",
   "metadata": {},
   "source": [
    "We could also calculate the [maximum](https://numpy.org/doc/stable/reference/generated/numpy.ndarray.max.html), [minimal](https://numpy.org/doc/stable/reference/generated/numpy.ndarray.min.html) and [standard deviation](https://numpy.org/doc/stable/reference/generated/numpy.ndarray.std.html) of the data:"
   ]
  },
  {
   "cell_type": "code",
   "execution_count": 14,
   "id": "ddac44fa",
   "metadata": {
    "lines_to_next_cell": 2
   },
   "outputs": [
    {
     "name": "stdout",
     "output_type": "stream",
     "text": [
      "maximum inflammation: 20.0\n",
      "minimum inflammation: 0.0\n",
      "standard deviation: 4.613833197118566\n"
     ]
    }
   ],
   "source": [
    "print('maximum inflammation:', numpy.max(data))\n",
    "print('minimum inflammation:', numpy.min(data))\n",
    "print('standard deviation:', numpy.std(data))"
   ]
  },
  {
   "cell_type": "markdown",
   "id": "00fea412",
   "metadata": {},
   "source": [
    "At any given point, we can learn more about a function by using some help magic 🪄 or tab completion.\n",
    "For instance, we could look the documentation for the `std` function:"
   ]
  },
  {
   "cell_type": "code",
   "execution_count": 15,
   "id": "3e24332c",
   "metadata": {
    "scrolled": true,
    "tags": []
   },
   "outputs": [
    {
     "name": "stdout",
     "output_type": "stream",
     "text": [
      "Help on function std in module numpy:\n",
      "\n",
      "std(a, axis=None, dtype=None, out=None, ddof=0, keepdims=<no value>, *, where=<no value>)\n",
      "    Compute the standard deviation along the specified axis.\n",
      "    \n",
      "    Returns the standard deviation, a measure of the spread of a distribution,\n",
      "    of the array elements. The standard deviation is computed for the\n",
      "    flattened array by default, otherwise over the specified axis.\n",
      "    \n",
      "    Parameters\n",
      "    ----------\n",
      "    a : array_like\n",
      "        Calculate the standard deviation of these values.\n",
      "    axis : None or int or tuple of ints, optional\n",
      "        Axis or axes along which the standard deviation is computed. The\n",
      "        default is to compute the standard deviation of the flattened array.\n",
      "    \n",
      "        .. versionadded:: 1.7.0\n",
      "    \n",
      "        If this is a tuple of ints, a standard deviation is performed over\n",
      "        multiple axes, instead of a single axis or all the axes as before.\n",
      "    dtype : dtype, optional\n",
      "        Type to use in computing the standard deviation. For arrays of\n",
      "        integer type the default is float64, for arrays of float types it is\n",
      "        the same as the array type.\n",
      "    out : ndarray, optional\n",
      "        Alternative output array in which to place the result. It must have\n",
      "        the same shape as the expected output but the type (of the calculated\n",
      "        values) will be cast if necessary.\n",
      "    ddof : int, optional\n",
      "        Means Delta Degrees of Freedom.  The divisor used in calculations\n",
      "        is ``N - ddof``, where ``N`` represents the number of elements.\n",
      "        By default `ddof` is zero.\n",
      "    keepdims : bool, optional\n",
      "        If this is set to True, the axes which are reduced are left\n",
      "        in the result as dimensions with size one. With this option,\n",
      "        the result will broadcast correctly against the input array.\n",
      "    \n",
      "        If the default value is passed, then `keepdims` will not be\n",
      "        passed through to the `std` method of sub-classes of\n",
      "        `ndarray`, however any non-default value will be.  If the\n",
      "        sub-class' method does not implement `keepdims` any\n",
      "        exceptions will be raised.\n",
      "    \n",
      "    where : array_like of bool, optional\n",
      "        Elements to include in the standard deviation.\n",
      "        See `~numpy.ufunc.reduce` for details.\n",
      "    \n",
      "        .. versionadded:: 1.20.0\n",
      "    \n",
      "    Returns\n",
      "    -------\n",
      "    standard_deviation : ndarray, see dtype parameter above.\n",
      "        If `out` is None, return a new array containing the standard deviation,\n",
      "        otherwise return a reference to the output array.\n",
      "    \n",
      "    See Also\n",
      "    --------\n",
      "    var, mean, nanmean, nanstd, nanvar\n",
      "    :ref:`ufuncs-output-type`\n",
      "    \n",
      "    Notes\n",
      "    -----\n",
      "    The standard deviation is the square root of the average of the squared\n",
      "    deviations from the mean, i.e., ``std = sqrt(mean(x))``, where\n",
      "    ``x = abs(a - a.mean())**2``.\n",
      "    \n",
      "    The average squared deviation is typically calculated as ``x.sum() / N``,\n",
      "    where ``N = len(x)``. If, however, `ddof` is specified, the divisor\n",
      "    ``N - ddof`` is used instead. In standard statistical practice, ``ddof=1``\n",
      "    provides an unbiased estimator of the variance of the infinite population.\n",
      "    ``ddof=0`` provides a maximum likelihood estimate of the variance for\n",
      "    normally distributed variables. The standard deviation computed in this\n",
      "    function is the square root of the estimated variance, so even with\n",
      "    ``ddof=1``, it will not be an unbiased estimate of the standard deviation\n",
      "    per se.\n",
      "    \n",
      "    Note that, for complex numbers, `std` takes the absolute\n",
      "    value before squaring, so that the result is always real and nonnegative.\n",
      "    \n",
      "    For floating-point input, the *std* is computed using the same\n",
      "    precision the input has. Depending on the input data, this can cause\n",
      "    the results to be inaccurate, especially for float32 (see example below).\n",
      "    Specifying a higher-accuracy accumulator using the `dtype` keyword can\n",
      "    alleviate this issue.\n",
      "    \n",
      "    Examples\n",
      "    --------\n",
      "    >>> a = np.array([[1, 2], [3, 4]])\n",
      "    >>> np.std(a)\n",
      "    1.1180339887498949 # may vary\n",
      "    >>> np.std(a, axis=0)\n",
      "    array([1.,  1.])\n",
      "    >>> np.std(a, axis=1)\n",
      "    array([0.5,  0.5])\n",
      "    \n",
      "    In single precision, std() can be inaccurate:\n",
      "    \n",
      "    >>> a = np.zeros((2, 512*512), dtype=np.float32)\n",
      "    >>> a[0, :] = 1.0\n",
      "    >>> a[1, :] = 0.1\n",
      "    >>> np.std(a)\n",
      "    0.45000005\n",
      "    \n",
      "    Computing the standard deviation in float64 is more accurate:\n",
      "    \n",
      "    >>> np.std(a, dtype=np.float64)\n",
      "    0.44999999925494177 # may vary\n",
      "    \n",
      "    Specifying a where argument:\n",
      "    \n",
      "    >>> a = np.array([[14, 8, 11, 10], [7, 9, 10, 11], [10, 15, 5, 10]])\n",
      "    >>> np.std(a)\n",
      "    2.614064523559687 # may vary\n",
      "    >>> np.std(a, where=[[True], [True], [False]])\n",
      "    2.0\n",
      "\n"
     ]
    }
   ],
   "source": [
    "help(numpy.std)"
   ]
  },
  {
   "cell_type": "markdown",
   "id": "f5683fa4",
   "metadata": {},
   "source": [
    "When analyzing data we often want to look at variations in statistical values, such as the maximum inflammation per patient or the average inflammation per day. One way to do this is to create a new temporary array of the data we want, then ask it to do the calculation. \n",
    "How would we assign the data of the first patient to a variable `patient_0`?:"
   ]
  },
  {
   "cell_type": "code",
   "execution_count": 16,
   "id": "f70ef5f1",
   "metadata": {},
   "outputs": [],
   "source": [
    "patient_0 = data[0, :] # 0 on the first axis (rows), everything on the second (columns)"
   ]
  },
  {
   "cell_type": "markdown",
   "id": "99345f20",
   "metadata": {},
   "source": [
    "Then calculate the maximum inflammation for this patient:"
   ]
  },
  {
   "cell_type": "code",
   "execution_count": 17,
   "id": "089f22d0",
   "metadata": {
    "lines_to_next_cell": 2
   },
   "outputs": [
    {
     "name": "stdout",
     "output_type": "stream",
     "text": [
      "18.0\n"
     ]
    }
   ],
   "source": [
    "print(numpy.max(patient_0))"
   ]
  },
  {
   "cell_type": "markdown",
   "id": "398ba2da",
   "metadata": {},
   "source": [
    "We don’t actually need to store the row in a variable of its own. We can call the function directly:"
   ]
  },
  {
   "cell_type": "code",
   "execution_count": 18,
   "id": "d4b80b97",
   "metadata": {
    "lines_to_next_cell": 2
   },
   "outputs": [
    {
     "name": "stdout",
     "output_type": "stream",
     "text": [
      "maximum inflammation for patient 2: 19.0\n"
     ]
    }
   ],
   "source": [
    "print('maximum inflammation for patient 2:', numpy.max(data[2, :]))"
   ]
  },
  {
   "cell_type": "markdown",
   "id": "9fad472e",
   "metadata": {},
   "source": [
    "Operations can be done on rows or columns, which we call _axis_.\n",
    "![image](../images/python-operations-across-axes.png)\n",
    "\n",
    "With _axis_, we can get the maximum inflammation for each patient over all days (left) or the average for each day (right).\n",
    "\n",
    "For instance, calculate the average for each day. To which graphic does this correspond?"
   ]
  },
  {
   "cell_type": "code",
   "execution_count": 19,
   "id": "8b9268f1",
   "metadata": {
    "lines_to_next_cell": 2
   },
   "outputs": [
    {
     "name": "stdout",
     "output_type": "stream",
     "text": [
      "[ 0.          0.45        1.11666667  1.75        2.43333333  3.15\n",
      "  3.8         3.88333333  5.23333333  5.51666667  5.95        5.9\n",
      "  8.35        7.73333333  8.36666667  9.5         9.58333333 10.63333333\n",
      " 11.56666667 12.35       13.25       11.96666667 11.03333333 10.16666667\n",
      " 10.          8.66666667  9.15        7.25        7.33333333  6.58333333\n",
      "  6.06666667  5.95        5.11666667  3.6         3.3         3.56666667\n",
      "  2.48333333  1.5         1.13333333  0.56666667]\n"
     ]
    }
   ],
   "source": [
    "print(numpy.mean(data, axis=0))"
   ]
  },
  {
   "cell_type": "markdown",
   "id": "f10621c7",
   "metadata": {},
   "source": [
    "When we look at the shape of our array, we get:"
   ]
  },
  {
   "cell_type": "code",
   "execution_count": 20,
   "id": "07ece672",
   "metadata": {},
   "outputs": [
    {
     "name": "stdout",
     "output_type": "stream",
     "text": [
      "(40,)\n"
     ]
    }
   ],
   "source": [
    "print(numpy.mean(data, axis=0).shape)"
   ]
  },
  {
   "cell_type": "markdown",
   "id": "7ac3c870",
   "metadata": {},
   "source": [
    "`(40,)` which means we have a 1 dimension vector (`Nx1`) of 40 elements. This is the average inflammation per day for all patients.\n",
    "And if we'd calculate the average inflammation per patient accross all days?:"
   ]
  },
  {
   "cell_type": "code",
   "execution_count": 21,
   "id": "2c8c71cd",
   "metadata": {
    "lines_to_next_cell": 2
   },
   "outputs": [
    {
     "name": "stdout",
     "output_type": "stream",
     "text": [
      "[5.45  5.425 6.1   5.9   5.55  6.225 5.975 6.65  6.625 6.525 6.775 5.8\n",
      " 6.225 5.75  5.225 6.3   6.55  5.7   5.85  6.55  5.775 5.825 6.175 6.1\n",
      " 5.8   6.425 6.05  6.025 6.175 6.55  6.175 6.35  6.725 6.125 7.075 5.725\n",
      " 5.925 6.15  6.075 5.75  5.975 5.725 6.3   5.9   6.75  5.925 7.225 6.15\n",
      " 5.95  6.275 5.7   6.1   6.825 5.975 6.725 5.7   6.25  6.4   7.05  5.9  ]\n"
     ]
    }
   ],
   "source": [
    "print(numpy.mean(data, axis=1))"
   ]
  },
  {
   "cell_type": "markdown",
   "id": "00f9a77f",
   "metadata": {},
   "source": [
    "# Exercices\n",
    "#### 1. Slicing\n",
    "From the `data` variable defined previously.\n",
    "\n",
    " Print the first patient, first inflammation value:"
   ]
  },
  {
   "cell_type": "code",
   "execution_count": 22,
   "id": "63fb5e1d",
   "metadata": {},
   "outputs": [
    {
     "name": "stdout",
     "output_type": "stream",
     "text": [
      "0.0\n"
     ]
    }
   ],
   "source": [
    "print(data[0,0])"
   ]
  },
  {
   "cell_type": "markdown",
   "id": "f6f32493",
   "metadata": {},
   "source": [
    "Print the second patient, 5th inflammation value:"
   ]
  },
  {
   "cell_type": "code",
   "execution_count": 23,
   "id": "c169703d",
   "metadata": {},
   "outputs": [
    {
     "name": "stdout",
     "output_type": "stream",
     "text": [
      "2.0\n"
     ]
    }
   ],
   "source": [
    "print(data[1,4])"
   ]
  },
  {
   "cell_type": "markdown",
   "id": "49f1d0a5",
   "metadata": {},
   "source": [
    "Print the first three patients, their first fourth inflammation values:"
   ]
  },
  {
   "cell_type": "code",
   "execution_count": 24,
   "id": "437c73a7",
   "metadata": {},
   "outputs": [
    {
     "data": {
      "text/plain": [
       "array([[0., 0., 1., 3.],\n",
       "       [0., 1., 2., 1.],\n",
       "       [0., 1., 1., 3.]])"
      ]
     },
     "execution_count": 24,
     "metadata": {},
     "output_type": "execute_result"
    }
   ],
   "source": [
    "data[0:3, 0:4]"
   ]
  },
  {
   "cell_type": "markdown",
   "id": "ba47a4c1",
   "metadata": {},
   "source": [
    "***\n",
    "# Key points\n",
    "\n",
    "* Import a library into a program using `import libraryname`.\n",
    "* Use the `numpy` library to work with arrays in Python.\n",
    "* The expression `array.shape` gives the shape of an array.\n",
    "* Use `array[x, y]` to select a single element from a 2D numpy array.\n",
    "* Array indices start at `0`, not `1`.\n",
    "* Use `low:high` to specify a slice that includes the indices from `low` to `high-1`.\n",
    "* Use `# some kind of explanation` to add comments to programs.\n",
    "* Use `numpy.mean(array)`, `numpy.max(array)`, and `numpy.min(array)` to calculate simple statistics.\n",
    "* Use `numpy.mean(array, axis=0)` or `numpy.mean(array, axis=1)` to calculate statistics across the specified axis."
   ]
  }
 ],
 "metadata": {
  "jupytext": {
   "cell_metadata_filter": "autoscroll,scrolled,tags",
   "formats": "ipynb,md",
   "notebook_metadata_filter": "all"
  },
  "kernelspec": {
   "display_name": "Python 3",
   "language": "python",
   "name": "python3"
  },
  "language_info": {
   "codemirror_mode": {
    "name": "ipython",
    "version": 3
   },
   "file_extension": ".py",
   "mimetype": "text/x-python",
   "name": "python",
   "nbconvert_exporter": "python",
   "pygments_lexer": "ipython3",
   "version": "3.9.13"
  }
 },
 "nbformat": 4,
 "nbformat_minor": 5
}
