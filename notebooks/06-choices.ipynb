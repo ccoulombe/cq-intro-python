{
 "cells": [
  {
   "cell_type": "markdown",
   "id": "f51d8f13",
   "metadata": {
    "lines_to_next_cell": 0
   },
   "source": [
    "# Making Choices\n",
    "## Objectives\n",
    "* Write conditional statements including `if`, `elif`, and `else` branches.\n",
    "* Correctly evaluate expressions containing `and` and `or`.\n",
    "\n",
    "***\n",
    "\n",
    "# Conditionals\n",
    "In life we make choices, it is not different in Python. We can express conditions with the `if` statement that, in turn, can be expressed by two values `True` or `False`, which are called `Booleans`.\n",
    "\n",
    "Documentation: https://docs.python.org/3/library/stdtypes.html#truth-value-testing"
   ]
  },
  {
   "cell_type": "code",
   "execution_count": 1,
   "id": "3fd8517e",
   "metadata": {
    "lines_to_next_cell": 0
   },
   "outputs": [
    {
     "data": {
      "text/plain": [
       "True"
      ]
     },
     "execution_count": 1,
     "metadata": {},
     "output_type": "execute_result"
    }
   ],
   "source": [
    "True"
   ]
  },
  {
   "cell_type": "code",
   "execution_count": 2,
   "id": "029b2b17",
   "metadata": {
    "lines_to_next_cell": 0
   },
   "outputs": [
    {
     "data": {
      "text/plain": [
       "False"
      ]
     },
     "execution_count": 2,
     "metadata": {},
     "output_type": "execute_result"
    }
   ],
   "source": [
    "False"
   ]
  },
  {
   "cell_type": "markdown",
   "id": "901401fc",
   "metadata": {
    "lines_to_next_cell": 0
   },
   "source": [
    "We can also construct `Booleans` from other values. For example, `False` and `True` are the equivalent of `0` and `1` respectively. \n",
    "\n",
    "By default, objects are considered true, except the following built-in objects:\n",
    "- `None` and `False`\n",
    "- zero of any numeric type: `0`, `0.0`, `0j`, `Decimal(0)`, `Fraction(0,1)`\n",
    "- empty collections and sequences: `''`, `()`, `[]`, `{}`, `set()`, `range(0)`."
   ]
  },
  {
   "cell_type": "code",
   "execution_count": 3,
   "id": "40c6a66e",
   "metadata": {
    "lines_to_next_cell": 0
   },
   "outputs": [
    {
     "name": "stdout",
     "output_type": "stream",
     "text": [
      "True\n",
      "False\n",
      "True\n"
     ]
    }
   ],
   "source": [
    "print(bool(1)) \n",
    "print(bool(0))\n",
    "print(bool('Hello'))  # Anything other than zero length string is True"
   ]
  },
  {
   "cell_type": "markdown",
   "id": "383a5e20",
   "metadata": {
    "lines_to_next_cell": 0
   },
   "source": [
    "We can also express conditions with relationnal operators:"
   ]
  },
  {
   "cell_type": "code",
   "execution_count": 4,
   "id": "1a9a8d24",
   "metadata": {},
   "outputs": [
    {
     "name": "stdout",
     "output_type": "stream",
     "text": [
      "True\n",
      "True\n",
      "False\n",
      "False\n",
      "True\n",
      "True\n"
     ]
    }
   ],
   "source": [
    "print(1 == 1)\n",
    "print(2 != 1)\n",
    "print(1 < 0)\n",
    "print(1 > 2)\n",
    "print(1 >= 1)\n",
    "print(1 <= 2)"
   ]
  },
  {
   "cell_type": "markdown",
   "id": "25d57741",
   "metadata": {
    "lines_to_next_cell": 0
   },
   "source": [
    "We can also express multiple conditions with the logical operators `and` or `or`. \n",
    "\n",
    "- `and` conditions will return `True` when every expression is `True` and will stop evaluating on `False`. \n",
    "\n",
    "| A     | B     | A and B |\n",
    "|-------|-------|---------|\n",
    "| True  | True  | True    |\n",
    "| True  | False | False   |\n",
    "| False | True  | False   |\n",
    "| False | False | False   |\n",
    "\n",
    "- `or` conditions will return `True` when at least one of the expression is `True`, otherwise `False`\n",
    "\n",
    "| A     | B     | A or B |\n",
    "|-------|-------|--------|\n",
    "| True  | True  | True   |\n",
    "| True  | False | True   |\n",
    "| False | True  | True   |\n",
    "| False | False | False  |\n",
    "\n",
    "And you can group expressions with `()`."
   ]
  },
  {
   "cell_type": "code",
   "execution_count": 5,
   "id": "1a1185f4",
   "metadata": {},
   "outputs": [
    {
     "name": "stdout",
     "output_type": "stream",
     "text": [
      "True\n"
     ]
    }
   ],
   "source": [
    "print(1 == 1 and 1 != 2)"
   ]
  },
  {
   "cell_type": "markdown",
   "id": "04094170",
   "metadata": {
    "lines_to_next_cell": 0
   },
   "source": [
    "What will the following expression returns?"
   ]
  },
  {
   "cell_type": "code",
   "execution_count": 6,
   "id": "46b52ae9",
   "metadata": {
    "lines_to_next_cell": 0
   },
   "outputs": [
    {
     "data": {
      "text/plain": [
       "True"
      ]
     },
     "execution_count": 6,
     "metadata": {},
     "output_type": "execute_result"
    }
   ],
   "source": [
    "True and True"
   ]
  },
  {
   "cell_type": "code",
   "execution_count": 7,
   "id": "be389a07",
   "metadata": {
    "lines_to_next_cell": 0
   },
   "outputs": [
    {
     "data": {
      "text/plain": [
       "False"
      ]
     },
     "execution_count": 7,
     "metadata": {},
     "output_type": "execute_result"
    }
   ],
   "source": [
    "True and False and True"
   ]
  },
  {
   "cell_type": "code",
   "execution_count": 8,
   "id": "a03a1057",
   "metadata": {
    "lines_to_next_cell": 0
   },
   "outputs": [
    {
     "data": {
      "text/plain": [
       "True"
      ]
     },
     "execution_count": 8,
     "metadata": {},
     "output_type": "execute_result"
    }
   ],
   "source": [
    "False or True"
   ]
  },
  {
   "cell_type": "code",
   "execution_count": 9,
   "id": "95c52a1c",
   "metadata": {
    "lines_to_next_cell": 0
   },
   "outputs": [
    {
     "data": {
      "text/plain": [
       "True"
      ]
     },
     "execution_count": 9,
     "metadata": {},
     "output_type": "execute_result"
    }
   ],
   "source": [
    "True or False and True"
   ]
  },
  {
   "cell_type": "code",
   "execution_count": 10,
   "id": "dd2fe987",
   "metadata": {},
   "outputs": [
    {
     "data": {
      "text/plain": [
       "False"
      ]
     },
     "execution_count": 10,
     "metadata": {},
     "output_type": "execute_result"
    }
   ],
   "source": [
    "(False or False) and True"
   ]
  },
  {
   "cell_type": "markdown",
   "id": "58dcf5d0",
   "metadata": {
    "lines_to_next_cell": 0
   },
   "source": [
    "With an `if` statement, we can decide on actions to do based on conditions:"
   ]
  },
  {
   "cell_type": "code",
   "execution_count": 11,
   "id": "92800457",
   "metadata": {
    "lines_to_next_cell": 0
   },
   "outputs": [
    {
     "name": "stdout",
     "output_type": "stream",
     "text": [
      "not greater\n",
      "done\n"
     ]
    }
   ],
   "source": [
    "num = 37\n",
    "if num > 100:\n",
    "    print('greater')\n",
    "else:\n",
    "    print('not greater')\n",
    "print('done')"
   ]
  },
  {
   "cell_type": "markdown",
   "id": "9ff9e6ee",
   "metadata": {
    "lines_to_next_cell": 0
   },
   "source": [
    "The above can be visulize with:\n",
    "\n",
    "![image](../images/python-flowchart-conditional.png)\n",
    "\n",
    "We can also tests several conditions using an `elif` which means _else if_."
   ]
  },
  {
   "cell_type": "code",
   "execution_count": 12,
   "id": "43dfd2ad",
   "metadata": {
    "lines_to_next_cell": 0,
    "tags": [
     "raises-exception"
    ]
   },
   "outputs": [
    {
     "ename": "TypeError",
     "evalue": "'>' not supported between instances of 'NoneType' and 'int'",
     "output_type": "error",
     "traceback": [
      "\u001b[0;31m---------------------------------------------------------------------------\u001b[0m",
      "\u001b[0;31mTypeError\u001b[0m                                 Traceback (most recent call last)",
      "Cell \u001b[0;32mIn [12], line 2\u001b[0m\n\u001b[1;32m      1\u001b[0m num \u001b[38;5;241m=\u001b[39m \u001b[38;5;28;01mNone\u001b[39;00m\n\u001b[0;32m----> 2\u001b[0m \u001b[38;5;28;01mif\u001b[39;00m \u001b[43mnum\u001b[49m\u001b[43m \u001b[49m\u001b[38;5;241;43m>\u001b[39;49m\u001b[43m \u001b[49m\u001b[38;5;241;43m100\u001b[39;49m:\n\u001b[1;32m      3\u001b[0m     \u001b[38;5;28mprint\u001b[39m(\u001b[38;5;124m'\u001b[39m\u001b[38;5;124mgreater\u001b[39m\u001b[38;5;124m'\u001b[39m)\n\u001b[1;32m      4\u001b[0m \u001b[38;5;28;01melif\u001b[39;00m num \u001b[38;5;129;01mis\u001b[39;00m \u001b[38;5;28;01mNone\u001b[39;00m:\n",
      "\u001b[0;31mTypeError\u001b[0m: '>' not supported between instances of 'NoneType' and 'int'"
     ]
    }
   ],
   "source": [
    "num = None\n",
    "if num > 100:\n",
    "    print('greater')\n",
    "elif num is None:\n",
    "    print('num is None')\n",
    "else:\n",
    "    print('not greater')\n",
    "print('done')"
   ]
  },
  {
   "cell_type": "markdown",
   "id": "62db5574",
   "metadata": {
    "lines_to_next_cell": 0
   },
   "source": [
    "As you can see the order of the conditions are very important as some relational operators cannot be used with `None`!"
   ]
  },
  {
   "cell_type": "code",
   "execution_count": 13,
   "id": "55b747dd",
   "metadata": {},
   "outputs": [
    {
     "name": "stdout",
     "output_type": "stream",
     "text": [
      "num is None\n",
      "done\n"
     ]
    }
   ],
   "source": [
    "num = None\n",
    "if num is None:\n",
    "    print('num is None')\n",
    "elif num > 100:\n",
    "    print('greater')\n",
    "else:\n",
    "    print('not greater')\n",
    "print('done')"
   ]
  },
  {
   "cell_type": "markdown",
   "id": "c52a3898",
   "metadata": {
    "lines_to_next_cell": 0
   },
   "source": [
    "# Exercises\n",
    "#### 1. Smaller Than\n",
    "Write the code to print the elements from `0` to `10` that are smaller than `4` using a `for` loop.\n",
    "\n",
    "Answer:\n",
    "```\n",
    "0 \n",
    "1 \n",
    "2\n",
    "3\n",
    "```"
   ]
  },
  {
   "cell_type": "code",
   "execution_count": 14,
   "id": "662ffa45",
   "metadata": {},
   "outputs": [
    {
     "name": "stdout",
     "output_type": "stream",
     "text": [
      "0\n",
      "1\n",
      "2\n",
      "3\n"
     ]
    }
   ],
   "source": [
    "for i in range(10):\n",
    "    if i < 4:\n",
    "        print(i)"
   ]
  },
  {
   "cell_type": "markdown",
   "id": "f3c40983",
   "metadata": {},
   "source": [
    "#### 2. Buckets\n",
    "For the list `nums = [1, 111, 2, 3, 5, 8, 13, 2, 34, 55, 89]`, sort the elements into three lists, then print the lists on one line:\n",
    "- smaller than `5`\n",
    "- greater than `100`\n",
    "- others\n",
    "\n",
    "Answer: `[1, 2, 3, 2] [111] [5, 8, 13, 34, 55, 89]`"
   ]
  },
  {
   "cell_type": "code",
   "execution_count": 15,
   "id": "85f07fe5",
   "metadata": {
    "lines_to_next_cell": 0
   },
   "outputs": [],
   "source": [
    "nums = [1, 111, 2, 3, 5, 8, 13, 2, 34, 55, 89]"
   ]
  },
  {
   "cell_type": "code",
   "execution_count": 16,
   "id": "567664a5",
   "metadata": {
    "tags": [
     "empty"
    ]
   },
   "outputs": [
    {
     "name": "stdout",
     "output_type": "stream",
     "text": [
      "[1, 2, 3, 2] [111] [5, 8, 13, 34, 55, 89]\n"
     ]
    }
   ],
   "source": [
    "s = []\n",
    "g = []\n",
    "o = []\n",
    "\n",
    "for n in nums:\n",
    "    if n < 5:\n",
    "        s.append(n)\n",
    "    elif n > 100:\n",
    "        g.append(n)\n",
    "    else:\n",
    "        o.append(n)\n",
    "print(s,g,o)"
   ]
  },
  {
   "cell_type": "markdown",
   "id": "21cc43e7",
   "metadata": {},
   "source": [
    "***\n",
    "# Key Points\n",
    "* Use if condition to start a conditional statement, elif condition to provide additional tests, and else to provide a default.\n",
    "* The bodies of the branches of conditional statements must be indented.\n",
    "* Use `==` to test for equality.\n",
    "* X and Y is only true if both X and Y are true.\n",
    "* X or Y is true if either X or Y, or both, are true.\n",
    "* Zero, the empty string, and the empty list are considered false; all other numbers, strings, and lists are considered true.\n",
    "* True and False represent truth values."
   ]
  }
 ],
 "metadata": {
  "jupytext": {
   "formats": "ipynb,md",
   "notebook_metadata_filter": "all"
  },
  "kernelspec": {
   "display_name": "Python 3",
   "language": "python",
   "name": "python3"
  },
  "language_info": {
   "codemirror_mode": {
    "name": "ipython",
    "version": 3
   },
   "file_extension": ".py",
   "mimetype": "text/x-python",
   "name": "python",
   "nbconvert_exporter": "python",
   "pygments_lexer": "ipython3",
   "version": "3.9.13"
  }
 },
 "nbformat": 4,
 "nbformat_minor": 5
}
