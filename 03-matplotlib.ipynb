{
 "cells": [
  {
   "cell_type": "markdown",
   "id": "0910d43f",
   "metadata": {
    "lines_to_next_cell": 0
   },
   "source": [
    "# Visualizing Tabular Data\n",
    "## Objectives\n",
    "* Plot simple graphs from data.\n",
    "* Plot multiple graphs in a single figure.\n",
    "\n",
    "***\n",
    "\n",
    "# Visualizing data\n",
    "\n",
    "In order to visualize data, we first need to import the library:"
   ]
  },
  {
   "cell_type": "code",
   "execution_count": null,
   "id": "0e6f2faa",
   "metadata": {
    "tags": [
     "empty"
    ]
   },
   "outputs": [],
   "source": []
  },
  {
   "cell_type": "markdown",
   "id": "9cc6a60a",
   "metadata": {
    "lines_to_next_cell": 0
   },
   "source": [
    "We also need to load the data in this notebook:"
   ]
  },
  {
   "cell_type": "code",
   "execution_count": null,
   "id": "8a4a919c",
   "metadata": {},
   "outputs": [],
   "source": [
    "import numpy\n",
    "data = numpy.loadtxt(fname='data/inflammation-01.csv', delimiter=',')"
   ]
  },
  {
   "cell_type": "markdown",
   "id": "abe35554",
   "metadata": {
    "lines_to_next_cell": 0
   },
   "source": [
    "We can now plot our data:"
   ]
  },
  {
   "cell_type": "code",
   "execution_count": null,
   "id": "49c51a26",
   "metadata": {
    "lines_to_next_cell": 0
   },
   "outputs": [],
   "source": [
    "image = matplotlib.pyplot.imshow(data)\n",
    "matplotlib.pyplot.show()"
   ]
  },
  {
   "cell_type": "markdown",
   "id": "e037900f",
   "metadata": {
    "lines_to_next_cell": 0
   },
   "source": [
    "Each row in the heat map corresponds to a patient in the clinical trial dataset, and each column corresponds to a day in the dataset. Blue pixels in this heat map represent low values, while yellow pixels represent high values. As we can see, the general number of inflammation flare-ups for the patients rises and falls over a 40-day period.\n",
    "\n",
    "We can plot other kind of graphs, for instance the average inflammation per day accross all patients:"
   ]
  },
  {
   "cell_type": "code",
   "execution_count": null,
   "id": "72db8e0d",
   "metadata": {},
   "outputs": [],
   "source": [
    "ave_inflammation = numpy.mean(data, axis=0)\n",
    "ave_plot = matplotlib.pyplot.plot(ave_inflammation)\n",
    "matplotlib.pyplot.show()"
   ]
  },
  {
   "cell_type": "markdown",
   "id": "62ac8482",
   "metadata": {
    "lines_to_next_cell": 0
   },
   "source": [
    "Can we have a look at the maximum and minimum?"
   ]
  },
  {
   "cell_type": "code",
   "execution_count": null,
   "id": "1ea55e70",
   "metadata": {},
   "outputs": [],
   "source": [
    "inflam_min = numpy.min(data, axis=0)\n",
    "inflam_max = numpy.max(data, axis=0)\n",
    "\n",
    "matplotlib.pyplot.plot(inflam_min)\n",
    "matplotlib.pyplot.show()\n",
    "\n",
    "matplotlib.pyplot.plot(inflam_max)\n",
    "matplotlib.pyplot.show()"
   ]
  },
  {
   "cell_type": "markdown",
   "id": "d77f5af6",
   "metadata": {
    "lines_to_next_cell": 0
   },
   "source": [
    "# Grouping plots\n",
    "We can group similar plots in a single figure using subplots. Here's a complete example:"
   ]
  },
  {
   "cell_type": "code",
   "execution_count": null,
   "id": "708811df",
   "metadata": {},
   "outputs": [],
   "source": [
    "import numpy\n",
    "import matplotlib.pyplot\n",
    "\n",
    "data = numpy.loadtxt(fname='data/inflammation-01.csv', delimiter=',')\n",
    "\n",
    "fig = matplotlib.pyplot.figure(figsize=(10.0, 3.0))\n",
    "\n",
    "axes1 = fig.add_subplot(1, 3, 1)\n",
    "axes2 = fig.add_subplot(1, 3, 2)\n",
    "axes3 = fig.add_subplot(1, 3, 3)\n",
    "\n",
    "axes1.set_ylabel('average')\n",
    "axes1.plot(numpy.mean(data, axis=0))\n",
    "\n",
    "axes2.set_ylabel('max')\n",
    "axes2.plot(numpy.max(data, axis=0))\n",
    "\n",
    "axes3.set_ylabel('min')\n",
    "axes3.plot(numpy.min(data, axis=0))\n",
    "\n",
    "fig.tight_layout()\n",
    "\n",
    "matplotlib.pyplot.savefig('inflammation.png')\n",
    "matplotlib.pyplot.show()"
   ]
  },
  {
   "cell_type": "markdown",
   "id": "64cd0573",
   "metadata": {},
   "source": [
    "***\n",
    "# Key Points\n",
    "* Use the `pyplot` module from the `matplotlib` library for creating simple visualizations."
   ]
  }
 ],
 "metadata": {
  "kernelspec": {
   "display_name": "Python 3",
   "language": "python",
   "name": "python3"
  },
  "language_info": {
   "codemirror_mode": {
    "name": "ipython",
    "version": 3
   },
   "file_extension": ".py",
   "mimetype": "text/x-python",
   "name": "python",
   "nbconvert_exporter": "python",
   "pygments_lexer": "ipython3",
   "version": "3.9.13"
  }
 },
 "nbformat": 4,
 "nbformat_minor": 5
}
