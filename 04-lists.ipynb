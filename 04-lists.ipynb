{
 "cells": [
  {
   "cell_type": "markdown",
   "id": "8edfe176",
   "metadata": {
    "lines_to_next_cell": 0
   },
   "source": [
    "# Storing Multiple Values in Lists\n",
    "## Objectives\n",
    "* Explain what a list is.\n",
    "* Create and index lists of simple values.\n",
    "* Change the values of individual elements\n",
    "* Append values to an existing list\n",
    "* Reorder and slice list elements\n",
    "* Create and manipulate nested lists\n",
    "\n",
    "***\n",
    "\n",
    "Python list documentation: https://docs.python.org/3/tutoridatastructures.html#more-on-lists\n",
    "\n",
    "# Python lists\n",
    "Unlike numpy arrays, lists are built into the language so we do not have to load a library to use them. We create a list by putting values inside square brackets and separating the values with commas:"
   ]
  },
  {
   "cell_type": "code",
   "execution_count": null,
   "id": "77b7fd89",
   "metadata": {
    "tags": [
     "empty"
    ]
   },
   "outputs": [],
   "source": []
  },
  {
   "cell_type": "markdown",
   "id": "c5a7b03b",
   "metadata": {
    "lines_to_next_cell": 0
   },
   "source": [
    "As previously, index `0` represents the first element, and index `3` the fourth element."
   ]
  },
  {
   "cell_type": "code",
   "execution_count": null,
   "id": "ecf5e029",
   "metadata": {
    "lines_to_next_cell": 0
   },
   "outputs": [],
   "source": [
    "print('first element:', odds[0])\n",
    "print('last element:', odds[3])\n",
    "print('\"-1\" element:', odds[-1])"
   ]
  },
  {
   "cell_type": "markdown",
   "id": "80cc8343",
   "metadata": {},
   "source": [
    "Yes, yes we can use negative numbers as indices in Python. When we do so, the index `-1` gives us the last element in the list, `-2` the second to last, and so on. Because of this, `odds[3]` and `odds[-1]` point to the same element here.\n",
    "\n",
    "Lists as strings (list of characters) can be sliced. It uses the `[from:to:step]` notation where the first number represents the first element to fetch, the second number represents the index of the last element (not taken), and the step is an optional parameter with a default value of 1.\n",
    " \n",
    "Recall that slicing is not an inclusive range: `[from:to[`\n",
    "\n",
    "|elements| 1  | 3  | 5  | 7  |\n",
    "|--------|----|----|----|----|\n",
    "|indexes | 0  | 1  | 2  | 3  |"
   ]
  },
  {
   "cell_type": "code",
   "execution_count": null,
   "id": "069a9f8c",
   "metadata": {
    "lines_to_next_cell": 0,
    "tags": [
     "empty"
    ]
   },
   "outputs": [],
   "source": []
  },
  {
   "cell_type": "code",
   "execution_count": null,
   "id": "dab53b9c",
   "metadata": {
    "lines_to_next_cell": 0
   },
   "outputs": [],
   "source": [
    "print(odds[1:])"
   ]
  },
  {
   "cell_type": "code",
   "execution_count": null,
   "id": "21fda86f",
   "metadata": {
    "lines_to_next_cell": 0,
    "tags": [
     "empty"
    ]
   },
   "outputs": [],
   "source": []
  },
  {
   "cell_type": "code",
   "execution_count": null,
   "id": "ef01f25c",
   "metadata": {},
   "outputs": [],
   "source": [
    "print(odds[::2])"
   ]
  },
  {
   "cell_type": "markdown",
   "id": "e84aa1de",
   "metadata": {},
   "source": [
    "We can also start from the end with the negative indexing:\n",
    "\n",
    "|elements| 1  | 3  | 5  | 7  |\n",
    "|--------|----|----|----|----|\n",
    "|indexes | 0  | 1  | 2  | 3  |\n",
    "|indexes | -4 | -3 | -2 | -1 |\n"
   ]
  },
  {
   "cell_type": "code",
   "execution_count": null,
   "id": "41ba325d",
   "metadata": {
    "lines_to_next_cell": 0,
    "tags": [
     "empty"
    ]
   },
   "outputs": [],
   "source": []
  },
  {
   "cell_type": "code",
   "execution_count": null,
   "id": "fadfc3dd",
   "metadata": {
    "lines_to_next_cell": 0
   },
   "outputs": [],
   "source": [
    "print(odds[-3:-1])"
   ]
  },
  {
   "cell_type": "code",
   "execution_count": null,
   "id": "1fb2fa80",
   "metadata": {
    "lines_to_next_cell": 0
   },
   "outputs": [],
   "source": [
    "print(odds[:-3])"
   ]
  },
  {
   "cell_type": "code",
   "execution_count": null,
   "id": "ebf4782d",
   "metadata": {
    "tags": [
     "empty"
    ]
   },
   "outputs": [],
   "source": []
  },
  {
   "cell_type": "markdown",
   "id": "2c653522",
   "metadata": {
    "lines_to_next_cell": 0
   },
   "source": [
    "Can we print the list in reverse, with two different way?"
   ]
  },
  {
   "cell_type": "code",
   "execution_count": null,
   "id": "5699de0d",
   "metadata": {
    "lines_to_next_cell": 0
   },
   "outputs": [],
   "source": [
    "print(odds[::-1])"
   ]
  },
  {
   "cell_type": "code",
   "execution_count": null,
   "id": "40c743d3",
   "metadata": {},
   "outputs": [],
   "source": [
    "print(odds[4:-5:-1])"
   ]
  },
  {
   "cell_type": "markdown",
   "id": "c872fae4",
   "metadata": {
    "lines_to_next_cell": 0
   },
   "source": [
    "There is one very important difference between list and string, we can change the values in a list, but we cannot change individual characters in a string. For example:"
   ]
  },
  {
   "cell_type": "code",
   "execution_count": null,
   "id": "9a6b8305",
   "metadata": {
    "lines_to_next_cell": 0
   },
   "outputs": [],
   "source": [
    "names = ['Curie', 'Darwing', 'Turing']  # typo in Darwin's name\n",
    "print('names is originally:', names)\n",
    "names[1] = 'Darwin'  # correct the name\n",
    "print('final value of names:', names)"
   ]
  },
  {
   "cell_type": "markdown",
   "id": "91e2dcf0",
   "metadata": {
    "lines_to_next_cell": 0
   },
   "source": [
    "works but the following does not:"
   ]
  },
  {
   "cell_type": "code",
   "execution_count": null,
   "id": "1f2725e9",
   "metadata": {
    "tags": [
     "raises-exception"
    ]
   },
   "outputs": [],
   "source": [
    "name = 'Darwin'\n",
    "name[0] = 'd'"
   ]
  },
  {
   "cell_type": "markdown",
   "id": "95720cfd",
   "metadata": {
    "lines_to_next_cell": 0
   },
   "source": [
    "We've seen previously that strings are *immutable* and lists are *mutable*.\n",
    "\n",
    "We also need to be careful when modyfing data in-place. What happens if two variables refers to the same list?"
   ]
  },
  {
   "cell_type": "code",
   "execution_count": null,
   "id": "24cf6340",
   "metadata": {
    "lines_to_next_cell": 0,
    "tags": [
     "empty"
    ]
   },
   "outputs": [],
   "source": []
  },
  {
   "cell_type": "markdown",
   "id": "2409c3d6",
   "metadata": {
    "lines_to_next_cell": 0
   },
   "source": [
    "Did we really make a copy?"
   ]
  },
  {
   "cell_type": "code",
   "execution_count": null,
   "id": "ce093b5e",
   "metadata": {
    "lines_to_next_cell": 0
   },
   "outputs": [],
   "source": [
    "other[0] = 99\n",
    "print(other)\n",
    "print(odds)"
   ]
  },
  {
   "cell_type": "markdown",
   "id": "b3220805",
   "metadata": {
    "lines_to_next_cell": 0
   },
   "source": [
    "No since both variable from the assignation points to the same data in memory.\n",
    "In order to effectively copy we construct another list from the original one:"
   ]
  },
  {
   "cell_type": "code",
   "execution_count": null,
   "id": "a496a5a0",
   "metadata": {},
   "outputs": [],
   "source": [
    "other = odds.copy() # or list(odds)\n",
    "odds[0] = 1\n",
    "print(other)\n",
    "print(odds)"
   ]
  },
  {
   "cell_type": "markdown",
   "id": "fdbffb02",
   "metadata": {
    "lines_to_next_cell": 0
   },
   "source": [
    "A `list` also has methods. We can use `append` to add element at the end of the list. Or see `help(list)` to get the list of available methods."
   ]
  },
  {
   "cell_type": "code",
   "execution_count": null,
   "id": "97d5d212",
   "metadata": {
    "lines_to_next_cell": 0
   },
   "outputs": [],
   "source": [
    "odds.append(9)\n",
    "print(odds)"
   ]
  },
  {
   "cell_type": "markdown",
   "id": "b78b8d7f",
   "metadata": {
    "lines_to_next_cell": 0
   },
   "source": [
    "We can also remove an element from the list."
   ]
  },
  {
   "cell_type": "code",
   "execution_count": null,
   "id": "00188742",
   "metadata": {},
   "outputs": [],
   "source": [
    "odds.pop(-1) # Removes the last element\n",
    "print(odds)\n",
    "odds.remove(1) # Removes the element `1` (not the first element)\n",
    "print(odds)"
   ]
  },
  {
   "cell_type": "markdown",
   "id": "614a8d43",
   "metadata": {
    "lines_to_next_cell": 0
   },
   "source": [
    "The elements of a list can also be sorted. These methods (`append`, `remove`, `sort`, ...) work in-place (modifying directly the object)."
   ]
  },
  {
   "cell_type": "code",
   "execution_count": null,
   "id": "8e032b59",
   "metadata": {
    "lines_to_next_cell": 0
   },
   "outputs": [],
   "source": [
    "odds.sort()\n",
    "print(odds)\n",
    "odds.reverse()\n",
    "print(odds)"
   ]
  },
  {
   "cell_type": "markdown",
   "id": "fee47e72",
   "metadata": {
    "lines_to_next_cell": 0
   },
   "source": [
    "Or we could use the buit-in function `sorted`. In this case, the original data structure is not touched, a copy is returned."
   ]
  },
  {
   "cell_type": "code",
   "execution_count": null,
   "id": "0e44e21a",
   "metadata": {},
   "outputs": [],
   "source": [
    "sorted_odds = sorted(odds)\n",
    "print(sorted_odds)\n",
    "print(odds)"
   ]
  },
  {
   "cell_type": "markdown",
   "id": "3a7f2a07",
   "metadata": {
    "lines_to_next_cell": 0
   },
   "source": [
    "Python lists can contain elements of different types. For example:"
   ]
  },
  {
   "cell_type": "code",
   "execution_count": null,
   "id": "d7d9efca",
   "metadata": {},
   "outputs": [],
   "source": [
    "chromosomes = [\"X\", \"Y\", 2, 3, 4]\n",
    "name = \"Drosophila melanogaster\""
   ]
  },
  {
   "cell_type": "markdown",
   "id": "b919c635",
   "metadata": {
    "lines_to_next_cell": 0
   },
   "source": [
    "We've seen that lists are indexed and can be sliced using `[start:end:step]` notation as with strings."
   ]
  },
  {
   "cell_type": "code",
   "execution_count": null,
   "id": "f68bcf46",
   "metadata": {},
   "outputs": [],
   "source": [
    "print(name[0:10])\n",
    "print(name[11:])\n",
    "print(chromosomes[0:3])\n",
    "print(chromosomes[-1])"
   ]
  },
  {
   "cell_type": "markdown",
   "id": "c56b1f9c",
   "metadata": {
    "lines_to_next_cell": 0
   },
   "source": [
    "We can even add a list as an element:"
   ]
  },
  {
   "cell_type": "code",
   "execution_count": null,
   "id": "c44b3b9a",
   "metadata": {
    "tags": [
     "empty"
    ]
   },
   "outputs": [],
   "source": []
  },
  {
   "cell_type": "markdown",
   "id": "b479c7ab",
   "metadata": {
    "lines_to_next_cell": 0
   },
   "source": [
    "And what happens if we addition two lists?"
   ]
  },
  {
   "cell_type": "code",
   "execution_count": null,
   "id": "3b34e139",
   "metadata": {
    "lines_to_next_cell": 0
   },
   "outputs": [],
   "source": [
    "print(odds + chromosomes)"
   ]
  },
  {
   "cell_type": "markdown",
   "id": "d2658ed6",
   "metadata": {
    "lines_to_next_cell": 0
   },
   "source": [
    "Lists can be concatenated together with the `+` operator.\n",
    "\n",
    "# Exercises\n",
    "\n",
    "#### 1. Indexing\n",
    "Given the list `nums = [1, 111, 2, 3, 5, 8, 13, 2, 34, 55, 89]`, print on the same line, the second, sixth and last element.\n",
    "\n",
    "Answer:`111 8 89`"
   ]
  },
  {
   "cell_type": "code",
   "execution_count": null,
   "id": "9fdab8d7",
   "metadata": {
    "lines_to_next_cell": 0
   },
   "outputs": [],
   "source": [
    "nums = [1, 111, 2, 3, 5, 8, 13, 2, 34, 55, 89]"
   ]
  },
  {
   "cell_type": "code",
   "execution_count": null,
   "id": "8e21293e",
   "metadata": {
    "tags": [
     "empty"
    ]
   },
   "outputs": [],
   "source": []
  },
  {
   "cell_type": "markdown",
   "id": "2ba4d9dc",
   "metadata": {},
   "source": [
    "# Key Points\n",
    "* `[value1, value2, value3, ...]` creates a list.\n",
    "* Lists can contain any Python object, including lists (i.e., list of lists).\n",
    "* Lists are indexed and sliced with square brackets (e.g., `list[0]` and `list[2:9]`), in the same way as strings and arrays.\n",
    "* Lists are *mutable* (i.e., their values can be changed in place).\n",
    "* Strings are *immutable* (i.e., the characters in them cannot be changed)."
   ]
  }
 ],
 "metadata": {
  "kernelspec": {
   "display_name": "Python 3",
   "language": "python",
   "name": "python3"
  },
  "language_info": {
   "codemirror_mode": {
    "name": "ipython",
    "version": 3
   },
   "file_extension": ".py",
   "mimetype": "text/x-python",
   "name": "python",
   "nbconvert_exporter": "python",
   "pygments_lexer": "ipython3",
   "version": "3.9.13"
  }
 },
 "nbformat": 4,
 "nbformat_minor": 5
}
