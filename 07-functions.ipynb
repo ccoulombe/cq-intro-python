{
 "cells": [
  {
   "cell_type": "markdown",
   "id": "d1c2b6ca",
   "metadata": {},
   "source": [
    "# Creating Function\n",
    "## Objectives\n",
    "* Define a function that takes parameters.\n",
    "* Return a value from a function.\n",
    "* Test and debug a function.\n",
    "* Set default values for function parameters.\n",
    "* Explain why we should divide programs into small, single-purpose functions.\n",
    "\n",
    "***\n",
    "Functions let us reuse pieces of code frequently used with different parameters.\n",
    "\n",
    "Let's start by defining a function `fahr_to_celsius` that converts temperatures from Fahrenheit to Celsius:"
   ]
  },
  {
   "cell_type": "code",
   "execution_count": null,
   "id": "10d012ce",
   "metadata": {
    "tags": [
     "empty"
    ]
   },
   "outputs": [],
   "source": []
  },
  {
   "cell_type": "markdown",
   "id": "5225be51-a6d3-4ee3-9b50-88683642dc87",
   "metadata": {},
   "source": [
    "![image](images/python-function.svg)\n",
    "\n",
    "The function definition opens with the keyword `def` followed by the name of the function (`fahr_to_celsius`) and a parenthesized list of parameter names (`temp`). The body of the function — the statements that are executed when it runs — is indented below the definition line. The body concludes with a `return` keyword followed by the return value.\n",
    "\n",
    "When we call the function, the values we pass to it are assigned to those variables so that we can use them inside the function. Inside the function, we use a `return` statement to send a result back to whoever asked for it."
   ]
  },
  {
   "cell_type": "code",
   "execution_count": null,
   "id": "f736bc86",
   "metadata": {
    "tags": [
     "empty"
    ]
   },
   "outputs": [],
   "source": []
  },
  {
   "cell_type": "markdown",
   "id": "c7ac89f1",
   "metadata": {},
   "source": [
    "The above call our function with the parameter `temp` set to `32` and then return the function value. We can reuse our function:"
   ]
  },
  {
   "cell_type": "code",
   "execution_count": null,
   "id": "98a9bc78",
   "metadata": {},
   "outputs": [],
   "source": [
    "print('freezing point of water:', fahr_to_celsius(32), 'C')\n",
    "print('boiling point of water:', fahr_to_celsius(212), 'C')"
   ]
  },
  {
   "cell_type": "markdown",
   "id": "f45d0861",
   "metadata": {},
   "source": [
    "# Composing Functions\n",
    "We can also write the function to turn Celsius into Kelvin, now that we've successfully written our `fahr_to_celsius` function."
   ]
  },
  {
   "cell_type": "code",
   "execution_count": null,
   "id": "c84bb615",
   "metadata": {
    "tags": []
   },
   "outputs": [],
   "source": [
    "def celsius_to_kelvin(temp_c):\n",
    "    return temp_c + 273.15\n",
    "\n",
    "print('freezing point of water in Kelvin:', celsius_to_kelvin(0.))"
   ]
  },
  {
   "cell_type": "markdown",
   "id": "70b46760",
   "metadata": {},
   "source": [
    "And let’s not forget about converting Fahrenheit to Kelvin! We can reuse our previous functions to compose a new function:"
   ]
  },
  {
   "cell_type": "code",
   "execution_count": null,
   "id": "a1877728",
   "metadata": {},
   "outputs": [],
   "source": [
    "def fahr_to_kelvin(temp_f):\n",
    "    temp_c = fahr_to_celsius(temp_f)\n",
    "    temp_k = celsius_to_kelvin(temp_c)\n",
    "    return temp_k\n",
    "\n",
    "print('boiling point of water in Kelvin:', fahr_to_kelvin(212.0))"
   ]
  },
  {
   "cell_type": "markdown",
   "id": "c46f2d21",
   "metadata": {},
   "source": [
    "We define basic operations and combine them into functions, and reuse them to create a larger script. Typically, functions will have approximately a dozen lines, so they are simple and easily readable.\n",
    "\n",
    "# Testing and Documenting\n",
    "We then need to verify that our functions are behaving correctly. In order to do so, we can run each function and print out the boolean result of an equality test. We can also assert that our function behave correctly by using an [assertion statement](https://docs.python.org/3/reference/simple_stmts.html#assert). An assertion will pass when the statement is `True`, otherwise will raise an exception and the code or function will not be allowed to continue. This is very useful in preventing bugs and ensuring correctness.\n",
    "\n",
    "We can first print out the boolean value"
   ]
  },
  {
   "cell_type": "code",
   "execution_count": null,
   "id": "87a4ba90",
   "metadata": {},
   "outputs": [],
   "source": [
    "print(fahr_to_celsius(32) == 0)  # should print True\n",
    "assert fahr_to_celsius(32) == 0, \"32F should be 0 Celsius\""
   ]
  },
  {
   "cell_type": "code",
   "execution_count": null,
   "id": "9bbb0c5b",
   "metadata": {},
   "outputs": [],
   "source": [
    "assert celsius_to_kelvin(0) == 273.15, \"0 Celsius should be 273.15 Kelvin\""
   ]
  },
  {
   "cell_type": "code",
   "execution_count": null,
   "id": "227a037b",
   "metadata": {
    "tags": [
     "empty"
    ]
   },
   "outputs": [],
   "source": []
  },
  {
   "cell_type": "markdown",
   "id": "880b4999",
   "metadata": {},
   "source": [
    "Our functions can contain more than just code. We can document it with `docstring` and comments.\n",
    "A good coding style is [`numpydoc`](https://numpydoc.readthedocs.io/en/latest/format.html#docstring-standard)."
   ]
  },
  {
   "cell_type": "code",
   "execution_count": null,
   "id": "692a521f",
   "metadata": {},
   "outputs": [],
   "source": [
    "def fahr_to_celsius(temp):\n",
    "    \"\"\"\n",
    "    Converts Fahrenheit to Celcius.\n",
    "    \n",
    "    Parameters:\n",
    "        temp: Temperature in Fahr.\n",
    "        \n",
    "    Example: \n",
    "        fahr_to_celsius(32) => 0.0\n",
    "    \"\"\"\n",
    "    # this is a comment\n",
    "    return ((temp - 32) * (5/9))"
   ]
  },
  {
   "cell_type": "markdown",
   "id": "310d1917",
   "metadata": {},
   "source": [
    "By documenting and commenting your functions, you help yourself and potential readers."
   ]
  },
  {
   "cell_type": "code",
   "execution_count": null,
   "id": "ad0a378f",
   "metadata": {},
   "outputs": [],
   "source": [
    "help(fahr_to_celsius)"
   ]
  },
  {
   "cell_type": "markdown",
   "id": "a282ada0",
   "metadata": {},
   "source": [
    "The `docstring` is printed when using the built-in `help` function, while comments are otherwise ignored.\n",
    "\n",
    "# Default Values\n",
    "We can also define default values to the function arguments."
   ]
  },
  {
   "cell_type": "code",
   "execution_count": null,
   "id": "4f27b1a0",
   "metadata": {},
   "outputs": [],
   "source": [
    "def fahr_to_celsius(temp=32):\n",
    "    \"\"\"\n",
    "    Converts Fahrenheit to Celcius.\n",
    "    \n",
    "    Parameters:\n",
    "        temp: Temperature in Fahr. int, default: 32\n",
    "        \n",
    "    Example: \n",
    "        fahr_to_celsius(32) => 0.0\n",
    "    \"\"\"\n",
    "    return ((temp - 32) * (5/9))"
   ]
  },
  {
   "cell_type": "code",
   "execution_count": null,
   "id": "a4258b73",
   "metadata": {
    "tags": [
     "empty"
    ]
   },
   "outputs": [],
   "source": []
  },
  {
   "cell_type": "markdown",
   "id": "e2613678",
   "metadata": {},
   "source": [
    "The arguments can be given by their names (especially interesting when there are many arguments)."
   ]
  },
  {
   "cell_type": "code",
   "execution_count": null,
   "id": "10ff8861",
   "metadata": {
    "tags": [
     "empty"
    ]
   },
   "outputs": [],
   "source": []
  },
  {
   "cell_type": "markdown",
   "id": "eba13cc6",
   "metadata": {},
   "source": [
    "# Exercises\n",
    "#### 1.\n",
    "Based on the following function:"
   ]
  },
  {
   "cell_type": "code",
   "execution_count": null,
   "id": "3654277d",
   "metadata": {
    "tags": []
   },
   "outputs": [],
   "source": [
    "def display(a, b, c):\n",
    "    print('a:', a, 'b:', b, 'c:', c)"
   ]
  },
  {
   "cell_type": "markdown",
   "id": "8ed45826",
   "metadata": {},
   "source": [
    "Redefine the function `display` such as every parameter has a default value of `1`, `2`, `3` respectively."
   ]
  },
  {
   "cell_type": "code",
   "execution_count": null,
   "id": "f53badb8",
   "metadata": {
    "tags": [
     "empty"
    ]
   },
   "outputs": [],
   "source": []
  },
  {
   "cell_type": "markdown",
   "id": "2fdf2ffe",
   "metadata": {},
   "source": [
    "Then execute it :\n",
    "- without parameters\n",
    "- with one parameter\n",
    "- with two parameters\n",
    "- with the third parameter set to the value `77`\n",
    "- with providing value to two parameters only (e.g. `b` and `c`)\n",
    "- with providing value to the parameters ordered as: `c,b,a`"
   ]
  },
  {
   "cell_type": "code",
   "execution_count": null,
   "id": "6174b0b8",
   "metadata": {
    "tags": [
     "empty"
    ]
   },
   "outputs": [],
   "source": []
  },
  {
   "cell_type": "markdown",
   "id": "7a851ca0",
   "metadata": {},
   "source": [
    "#### 2. Combining Strings\n",
    "Write a function `wrap` that takes two strings as input and returns the first one wrapped (surrounded) with the second one. The default wrapping string is `*`.\n",
    "\n",
    "Answer:\n",
    "```\n",
    "print(wrap('value'))      => *value*\n",
    "print(wrap('value', '+')) => +value+\n",
    "```\n",
    "\n",
    "Define the function:"
   ]
  },
  {
   "cell_type": "code",
   "execution_count": null,
   "id": "b0fabc13",
   "metadata": {
    "tags": [
     "empty"
    ]
   },
   "outputs": [],
   "source": []
  },
  {
   "cell_type": "markdown",
   "id": "84ead99f",
   "metadata": {},
   "source": [
    "Assert the function is correct:"
   ]
  },
  {
   "cell_type": "code",
   "execution_count": null,
   "id": "0fad32ba",
   "metadata": {
    "tags": [
     "empty"
    ]
   },
   "outputs": [],
   "source": []
  },
  {
   "cell_type": "markdown",
   "id": "6a012831",
   "metadata": {},
   "source": [
    "Print the results:"
   ]
  },
  {
   "cell_type": "code",
   "execution_count": null,
   "id": "9b25c081",
   "metadata": {
    "tags": [
     "empty"
    ]
   },
   "outputs": [],
   "source": []
  },
  {
   "cell_type": "markdown",
   "id": "31af20a5",
   "metadata": {},
   "source": [
    "#### 3. Variables Inside and Outside Functions\n",
    "What will the following code print (and why)?"
   ]
  },
  {
   "cell_type": "code",
   "execution_count": null,
   "id": "207dd368",
   "metadata": {},
   "outputs": [],
   "source": [
    "f = 0\n",
    "k = 0\n",
    "\n",
    "def f2k(f):\n",
    "    k = f + 10\n",
    "    return k\n",
    "\n",
    "print(f2k(32))\n",
    "\n",
    "print(k)"
   ]
  },
  {
   "cell_type": "markdown",
   "id": "f7ba9612",
   "metadata": {},
   "source": [
    "`k` is `0` because the `k` inside the function `f2k` doesn’t know about the `k` defined outside the function."
   ]
  },
  {
   "cell_type": "markdown",
   "id": "74238189",
   "metadata": {},
   "source": [
    "***\n",
    "# Key Points\n",
    "* Define a function using `def function_name(parameter)`.\n",
    "* The body of a function must be indented.\n",
    "* Call a function using `function_name(value)`.\n",
    "* Numbers are stored as integers or floating-point numbers.\n",
    "* Variables defined within a function can only be seen and used within the body of the function.\n",
    "* Variables created outside of any function are called global variables.\n",
    "* Within a function, we can access global variables.\n",
    "* Variables created within a function override global variables if their names match.\n",
    "* Use `help(thing)` to view help for something.\n",
    "* Put docstrings in functions to provide help for that function.\n",
    "* Specify default values for parameters when defining a function using `name=value` in the parameter list.\n",
    "* Parameters can be passed by matching based on name, by position, or by omitting them (in which case the default value is used).\n",
    "* Put code whose parameters change frequently in a function, then call it with different parameter values to customize its behaviour."
   ]
  }
 ],
 "metadata": {
  "jupytext": {
   "formats": "ipynb,md:myst",
   "notebook_metadata_filter": "all"
  },
  "kernelspec": {
   "display_name": "Python 3 (ipykernel)",
   "language": "python",
   "name": "python3"
  },
  "language_info": {
   "codemirror_mode": {
    "name": "ipython",
    "version": 3
   },
   "file_extension": ".py",
   "mimetype": "text/x-python",
   "name": "python",
   "nbconvert_exporter": "python",
   "pygments_lexer": "ipython3",
   "version": "3.9.13"
  }
 },
 "nbformat": 4,
 "nbformat_minor": 5
}